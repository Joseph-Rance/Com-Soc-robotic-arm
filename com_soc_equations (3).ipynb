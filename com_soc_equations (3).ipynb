{
  "nbformat": 4,
  "nbformat_minor": 0,
  "metadata": {
    "colab": {
      "name": "com soc equations.ipynb",
      "provenance": [],
      "collapsed_sections": []
    },
    "kernelspec": {
      "name": "python3",
      "display_name": "Python 3"
    }
  },
  "cells": [
    {
      "cell_type": "markdown",
      "metadata": {
        "id": "FLGp5wa0-Us1",
        "colab_type": "text"
      },
      "source": [
        "**UNFINISHED**\n",
        "\n",
        "Notebook for the engineering team to use to calculate x and y for the arm (x is part of the arm between servos at alpha and beta, y is between beta and the grabber).\n",
        "\n",
        "max_range -> returns the maximum range the arm can extend to with the given values for x and y and constrained to 20 <= alpha <= 90 (degrees)\n",
        "beta_clockwise_moments -> returns the net clockwise moment acting on the servo at beta\n",
        "alpha_clockwise_moments -> returns the net clockwise moment acting on the servo at alpha\n",
        "\n",
        "check_lengths -> checks the above three functions return answers that would mean the arm can attain sufficient range within the bounds of alpha and beta.\n",
        "\n",
        "apologies for the horrbile alpha_clockwise_moments function, but i tried to keep the function formatted the same as the equation sent on discord\n",
        "\n",
        "**Notes:**\n",
        "Gradient ascent being used for finding the range has to check a lot of alpha values, so it there is an alpha value available in which it is not possible to touch the table then a complex number will be returned and we'll get an error. We want to be able to touch the table for all values of alpha in the range, so we know that the values for x and y are invalid if it crashes.\n",
        "\n",
        "There is an issue with antclockwise moments which is going to be a little more tricky. Will investigate further later."
      ]
    },
    {
      "cell_type": "code",
      "metadata": {
        "id": "nycrMBwlT7mT",
        "colab_type": "code",
        "colab": {}
      },
      "source": [
        "from math import cos, sin, atan, pi, radians  # all angles in radians\n",
        "from itertools import product"
      ],
      "execution_count": 43,
      "outputs": []
    },
    {
      "cell_type": "code",
      "metadata": {
        "id": "D35N-tldU7ms",
        "colab_type": "code",
        "colab": {}
      },
      "source": [
        "def max_range(x, y, iterations=20, eta=0.1):  # eta is like learning rate\n",
        "  get_range = lambda alpha, x, y : x * cos(alpha) + (y**2 - (0.1 - x*sin(alpha))**2)**0.5  # if we want to speed this up we can do it algerbraically, but this is more versatile imo\n",
        "  get_range_grad = lambda alpha, x, y : ( (x * cos(alpha)) * (0.1 - x * sin(alpha)) )/( y**2 - (0.1 - x * sin(alpha))**2 )**0.5 - x * sin(alpha)\n",
        "\n",
        "  max_alpha_val = pi/9\n",
        "  for i in range(iterations):\n",
        "    max_alpha_val += eta * get_range_grad(max_alpha_val, x, y)  # gradient ascent approximation\n",
        "    max_alpha_val = max(min(max_alpha_val, pi/4), pi/9)  # constrain alpha to range\n",
        "\n",
        "  return get_range(max_alpha_val, x, y)"
      ],
      "execution_count": 44,
      "outputs": []
    },
    {
      "cell_type": "code",
      "metadata": {
        "id": "uRGSKAdjZoeA",
        "colab_type": "code",
        "colab": {}
      },
      "source": [
        "SERVO_TORQUE = 1.2748"
      ],
      "execution_count": 45,
      "outputs": []
    },
    {
      "cell_type": "code",
      "metadata": {
        "id": "IxVjQ2PYUXbA",
        "colab_type": "code",
        "colab": {}
      },
      "source": [
        "BETA_ANTICLOCKWISE_MOMENT = SERVO_TORQUE\n",
        "beta_clockwise_moments = lambda alpha, beta, y : 11.772 * cos(alpha + beta - pi) * (0.0015 * y**2 + 0.385 * y + 2.75)  # this should be true for all alpha and beta in range"
      ],
      "execution_count": 46,
      "outputs": []
    },
    {
      "cell_type": "code",
      "metadata": {
        "id": "JENxKA04Zg_2",
        "colab_type": "code",
        "colab": {}
      },
      "source": [
        "ALPHA_ANTICLOCKWISE_MOMENT = SERVO_TORQUE\n",
        "alpha_clockwise_moments = lambda alpha, beta, x, y : 11.772 * ((x * 0.003) * (x / 2) * cos(alpha) + (0.055) * (x) \\\n",
        "                                                     * cos(alpha) + (y + 0.003) * ((x * sin(alpha) + y * sin(alpha + beta - pi) / 2) + (x * cos(alpha) \\\n",
        "                                                     + y * cos(alpha + beta - pi) / 2)**2)**0.5 * cos(atan((x * sin(alpha) + y * sin(alpha + beta -pi) / 2) \\\n",
        "                                                     / (x * cos(alpha) + y * cos(alpha + beta - pi) / 2))) + (0.11) * ((x * sin(alpha) + y * sin(alpha + beta - pi))**2 \\\n",
        "                                                     + (x * cos(alpha) + y * cos(alpha + beta - pi))**2)**0.5 * cos(atan((x * sin(alpha) + y * sin(alpha + beta - pi)) \\\n",
        "                                                     / (x * cos(alpha) + y * cos(alpha + beta - pi)))) + (0.275) * ((x * sin(alpha) + (y + 0.1) * sin(alpha + beta - pi))**2 \\\n",
        "                                                     + (x * cos(alpha) + (y + 0.1) * cos (alpha + beta - pi))**2)**0.5 * cos(atan((x * sin(alpha) + (y + 0.1) * sin(alpha \\\n",
        "                                                     + beta - pi)) / (x * cos(alpha) + (y + 0.1) * cos(alpha + beta - pi)))))  # could improve speed here by evaling cos(alpha, beta ... ) before"
      ],
      "execution_count": 47,
      "outputs": []
    },
    {
      "cell_type": "code",
      "metadata": {
        "id": "aBFWLZtPdW6G",
        "colab_type": "code",
        "colab": {}
      },
      "source": [
        "def check_lengths(x, y, iterations=20, eta=0.1):\n",
        "\n",
        "  max_r = max_range(x, y, iterations=iterations, eta=eta)\n",
        "  max_bcm = max([beta_clockwise_moments(radians(alpha), radians(beta), y) for alpha, beta in product(list(range(20,91)), list(range(10,161)))])\n",
        "  max_acm = max([alpha_clockwise_moments(radians(alpha), radians(beta), x, y) for alpha, beta in product(list(range(20,91)), list(range(10,161)))])\n",
        "\n",
        "  passed = True\n",
        "\n",
        "  if 0.5 <= max_r:\n",
        "    print(f\"Range {max_r} passed\")\n",
        "  else:\n",
        "    print(f\"Range {max_r} did not pass\")\n",
        "    passed = False\n",
        "  if BETA_ANTICLOCKWISE_MOMENT >= max_bcm:\n",
        "    print(f\"Max beta torque {max_bcm} passed\")\n",
        "  else:\n",
        "    print(f\"Max beta torque {max_bcm} did not pass\")\n",
        "    passed = False\n",
        "  if ALPHA_ANTICLOCKWISE_MOMENT >= max_acm:\n",
        "    print(f\"Max alpha torque {max_acm} passed\")\n",
        "  else:\n",
        "    print(f\"Max alpha torque {max_acm} did not pass\")\n",
        "    passed = False\n",
        "  \n",
        "  return passed"
      ],
      "execution_count": 48,
      "outputs": []
    },
    {
      "cell_type": "code",
      "metadata": {
        "id": "29G4eci8uuHU",
        "colab_type": "code",
        "colab": {
          "base_uri": "https://localhost:8080/",
          "height": 85
        },
        "outputId": "115b980b-d0bd-4b4b-b7af-7768af70b1e4"
      },
      "source": [
        "x = 1\n",
        "y = 1  # Insert vals to test here\n",
        "print(\"Passed:\", check_lengths(x, y))"
      ],
      "execution_count": 49,
      "outputs": [
        {
          "output_type": "stream",
          "text": [
            "Range 1.9099638458691954 passed\n",
            "Max beta torque 36.922878 did not pass\n",
            "Max alpha torque 27.590914900688787 did not pass\n",
            "Passed: False\n"
          ],
          "name": "stdout"
        }
      ]
    },
    {
      "cell_type": "code",
      "metadata": {
        "id": "8qbMJZsMBDuf",
        "colab_type": "code",
        "colab": {}
      },
      "source": [
        ""
      ],
      "execution_count": 49,
      "outputs": []
    }
  ]
}