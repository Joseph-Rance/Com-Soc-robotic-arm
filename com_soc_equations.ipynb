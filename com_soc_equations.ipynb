{
  "nbformat": 4,
  "nbformat_minor": 0,
  "metadata": {
    "colab": {
      "name": "com soc equations.ipynb",
      "provenance": [],
      "collapsed_sections": []
    },
    "kernelspec": {
      "name": "python3",
      "display_name": "Python 3"
    }
  },
  "cells": [
    {
      "cell_type": "code",
      "metadata": {
        "id": "nycrMBwlT7mT",
        "colab_type": "code",
        "colab": {}
      },
      "source": [
        "from math import cos, sin, atan, pi  # all angles in radians\n",
        "from itertools import product"
      ],
      "execution_count": null,
      "outputs": []
    },
    {
      "cell_type": "code",
      "metadata": {
        "id": "D35N-tldU7ms",
        "colab_type": "code",
        "colab": {}
      },
      "source": [
        "def max_range(x, y, iterations=20, eta=0.1):  # eta is like learning rate\n",
        "  get_range = lambda alpha, x, y : x * cos(alpha) + (y**2 - (0.1 - x*sin(alpha))**2)**0.5\n",
        "  get_range_grad = lambda alpha, x, y : ( (x * cos(alpha)) * (0.1 - x * sin(alpha)) )/( y**2 - (0.1 - x * sin(alpha))**2 )**0.5 - x * sin(alpha)\n",
        "\n",
        "  max_alpha_val = 10\n",
        "  for i in range(iterations):\n",
        "    max_alpha_val += eta * get_range_grad(max_alpha_val, x, y)  # gradient ascent approximation\n",
        "    max_alpha_val = max(min(max_alpha_val, 90), 20)  # constrain alpha to range\n",
        "\n",
        "  return get_range(max_alpha_val, x, y)"
      ],
      "execution_count": null,
      "outputs": []
    },
    {
      "cell_type": "code",
      "metadata": {
        "id": "uRGSKAdjZoeA",
        "colab_type": "code",
        "colab": {}
      },
      "source": [
        "SERVO_TORQUE = 1.2748"
      ],
      "execution_count": null,
      "outputs": []
    },
    {
      "cell_type": "code",
      "metadata": {
        "id": "IxVjQ2PYUXbA",
        "colab_type": "code",
        "colab": {}
      },
      "source": [
        "BETA_ANTICLOCKWISE_MOMENT = SERVO_TORQUE\n",
        "beta_clockwise_moments = lambda alpha, beta, y : 11.772 * cos(alpha + beta - pi) * (0.0015 * y**2 + 0.385 * y + 2.75)  # this should be true for all alpha and beta in range"
      ],
      "execution_count": null,
      "outputs": []
    },
    {
      "cell_type": "code",
      "metadata": {
        "id": "JENxKA04Zg_2",
        "colab_type": "code",
        "colab": {}
      },
      "source": [
        "ALPHA_ANTICLOCKWISE_MOMENT = 2 * SERVO_TORQUE\n",
        "alpha_clockwise_moments = lambda alpha, beta, x, y : 11.772 * ((x * 0.003) * (x / 2) * cos(alpha) + (0.055) * (x) \\\n",
        "                                                     * cos(alpha) + (y + 0.003) * ((x * sin(alpha) + y * sin(alpha + beta - pi) / 2) + (x * cos(alpha) \\\n",
        "                                                     + y * cos(alpha + beta - pi) / 2)**2)**0.5 * cos(atan((x * sin(alpha) + y * sin(alpha + beta -pi) / 2) \\\n",
        "                                                     / (x * cos(alpha) + y * cos(alpha + beta - pi) / 2))) + (0.11) * ((x * sin(alpha) + y * sin(alpha + beta - pi))**2 \\\n",
        "                                                     + (x * cos(alpha) + y * cos(alpha + beta - pi))**2)**0.5 * cos(atan((x * sin(alpha) + y * sin(alpha + beta - pi)) \\\n",
        "                                                     / (x * cos(alpha) + y * cos(alpha + beta - pi)))) + (0.275) * ((x * sin(alpha) + (y + 0.1) * sin(alpha + beta - pi))**2 \\\n",
        "                                                     + (x * cos(alpha) + (y + 0.1) * cos (alpha + beta - pi))**2)**0.5 * cos(atan((x * sin(alpha) + (y + 0.1) * sin(alpha \\\n",
        "                                                     + beta - pi)) / (x * cos(alpha) + (y + 0.1) * cos(alpha + beta - pi)))))  # could improve speed here by evaling cos(alpha, beta ... ) before"
      ],
      "execution_count": null,
      "outputs": []
    },
    {
      "cell_type": "code",
      "metadata": {
        "id": "aBFWLZtPdW6G",
        "colab_type": "code",
        "colab": {}
      },
      "source": [
        "def check_lengths(x, y, iterations=20, eta=0.1):\n",
        "\n",
        "  max_r = max_range(x, y, iterations=iterations, eta=eta)\n",
        "  max_bcm = max([beta_clockwise_moments(alpha, beta, y) for alpha, beta in product(list(range(20,91)), list(range(10,161)))])\n",
        "  max_acm = max([alpha_clockwise_moments(alpha, beta, x, y) for alpha, beta in product(list(range(20,91)), list(range(10,161)))])\n",
        "\n",
        "  if 0.5 <= max_r:\n",
        "    print(f\"Range {max_r} satisfactory\")\n",
        "  else:\n",
        "    return False\n",
        "  if BETA_ANTICLOCKWISE_MOMENT >= max_bcm:\n",
        "    print(f\"Beta torque {max_r} satisfactory\")\n",
        "  else:\n",
        "    return False\n",
        "  if ALPHA_ANTICLOCKWISE_MOMENT >= max_acm:\n",
        "    print(f\"Alpha torque {max_r} satisfactory\")\n",
        "  else:\n",
        "    return False\n",
        "  \n",
        "  return True"
      ],
      "execution_count": null,
      "outputs": []
    },
    {
      "cell_type": "code",
      "metadata": {
        "id": "29G4eci8uuHU",
        "colab_type": "code",
        "colab": {
          "base_uri": "https://localhost:8080/",
          "height": 340
        },
        "outputId": "c7be52aa-73ff-4edb-f607-940820113cec"
      },
      "source": [
        "x = 10\n",
        "y = 5  # Insert vals to test here\n",
        "print(\"Passed:\", check_lengths(x, y))"
      ],
      "execution_count": null,
      "outputs": [
        {
          "output_type": "error",
          "ename": "TypeError",
          "evalue": "ignored",
          "traceback": [
            "\u001b[0;31m---------------------------------------------------------------------------\u001b[0m",
            "\u001b[0;31mTypeError\u001b[0m                                 Traceback (most recent call last)",
            "\u001b[0;32m<ipython-input-16-07ec991fd538>\u001b[0m in \u001b[0;36m<module>\u001b[0;34m()\u001b[0m\n\u001b[1;32m      1\u001b[0m \u001b[0mx\u001b[0m \u001b[0;34m=\u001b[0m \u001b[0;36m10\u001b[0m\u001b[0;34m\u001b[0m\u001b[0;34m\u001b[0m\u001b[0m\n\u001b[1;32m      2\u001b[0m \u001b[0my\u001b[0m \u001b[0;34m=\u001b[0m \u001b[0;36m5\u001b[0m  \u001b[0;31m# Insert vals to test here\u001b[0m\u001b[0;34m\u001b[0m\u001b[0;34m\u001b[0m\u001b[0m\n\u001b[0;32m----> 3\u001b[0;31m \u001b[0mprint\u001b[0m\u001b[0;34m(\u001b[0m\u001b[0;34m\"Passed:\"\u001b[0m\u001b[0;34m,\u001b[0m \u001b[0mcheck_lengths\u001b[0m\u001b[0;34m(\u001b[0m\u001b[0mx\u001b[0m\u001b[0;34m,\u001b[0m \u001b[0my\u001b[0m\u001b[0;34m)\u001b[0m\u001b[0;34m)\u001b[0m\u001b[0;34m\u001b[0m\u001b[0;34m\u001b[0m\u001b[0m\n\u001b[0m",
            "\u001b[0;32m<ipython-input-15-9eeb828f29cf>\u001b[0m in \u001b[0;36mcheck_lengths\u001b[0;34m(x, y, iterations, eta)\u001b[0m\n\u001b[1;32m      1\u001b[0m \u001b[0;32mdef\u001b[0m \u001b[0mcheck_lengths\u001b[0m\u001b[0;34m(\u001b[0m\u001b[0mx\u001b[0m\u001b[0;34m,\u001b[0m \u001b[0my\u001b[0m\u001b[0;34m,\u001b[0m \u001b[0miterations\u001b[0m\u001b[0;34m=\u001b[0m\u001b[0;36m20\u001b[0m\u001b[0;34m,\u001b[0m \u001b[0meta\u001b[0m\u001b[0;34m=\u001b[0m\u001b[0;36m0.1\u001b[0m\u001b[0;34m)\u001b[0m\u001b[0;34m:\u001b[0m\u001b[0;34m\u001b[0m\u001b[0;34m\u001b[0m\u001b[0m\n\u001b[1;32m      2\u001b[0m \u001b[0;34m\u001b[0m\u001b[0m\n\u001b[0;32m----> 3\u001b[0;31m   \u001b[0mmax_r\u001b[0m \u001b[0;34m=\u001b[0m \u001b[0mmax_range\u001b[0m\u001b[0;34m(\u001b[0m\u001b[0mx\u001b[0m\u001b[0;34m,\u001b[0m \u001b[0my\u001b[0m\u001b[0;34m,\u001b[0m \u001b[0miterations\u001b[0m\u001b[0;34m=\u001b[0m\u001b[0miterations\u001b[0m\u001b[0;34m,\u001b[0m \u001b[0meta\u001b[0m\u001b[0;34m=\u001b[0m\u001b[0meta\u001b[0m\u001b[0;34m)\u001b[0m\u001b[0;34m\u001b[0m\u001b[0;34m\u001b[0m\u001b[0m\n\u001b[0m\u001b[1;32m      4\u001b[0m   \u001b[0mmax_bcm\u001b[0m \u001b[0;34m=\u001b[0m \u001b[0mmax\u001b[0m\u001b[0;34m(\u001b[0m\u001b[0;34m[\u001b[0m\u001b[0mbeta_clockwise_moments\u001b[0m\u001b[0;34m(\u001b[0m\u001b[0malpha\u001b[0m\u001b[0;34m,\u001b[0m \u001b[0mbeta\u001b[0m\u001b[0;34m,\u001b[0m \u001b[0my\u001b[0m\u001b[0;34m)\u001b[0m \u001b[0;32mfor\u001b[0m \u001b[0malpha\u001b[0m\u001b[0;34m,\u001b[0m \u001b[0mbeta\u001b[0m \u001b[0;32min\u001b[0m \u001b[0mproduct\u001b[0m\u001b[0;34m(\u001b[0m\u001b[0mlist\u001b[0m\u001b[0;34m(\u001b[0m\u001b[0mrange\u001b[0m\u001b[0;34m(\u001b[0m\u001b[0;36m20\u001b[0m\u001b[0;34m,\u001b[0m\u001b[0;36m91\u001b[0m\u001b[0;34m)\u001b[0m\u001b[0;34m)\u001b[0m\u001b[0;34m,\u001b[0m \u001b[0mlist\u001b[0m\u001b[0;34m(\u001b[0m\u001b[0mrange\u001b[0m\u001b[0;34m(\u001b[0m\u001b[0;36m10\u001b[0m\u001b[0;34m,\u001b[0m\u001b[0;36m161\u001b[0m\u001b[0;34m)\u001b[0m\u001b[0;34m)\u001b[0m\u001b[0;34m)\u001b[0m\u001b[0;34m]\u001b[0m\u001b[0;34m)\u001b[0m\u001b[0;34m\u001b[0m\u001b[0;34m\u001b[0m\u001b[0m\n\u001b[1;32m      5\u001b[0m   \u001b[0mmax_acm\u001b[0m \u001b[0;34m=\u001b[0m \u001b[0mmax\u001b[0m\u001b[0;34m(\u001b[0m\u001b[0;34m[\u001b[0m\u001b[0malpha_clockwise_moments\u001b[0m\u001b[0;34m(\u001b[0m\u001b[0malpha\u001b[0m\u001b[0;34m,\u001b[0m \u001b[0mbeta\u001b[0m\u001b[0;34m,\u001b[0m \u001b[0mx\u001b[0m\u001b[0;34m,\u001b[0m \u001b[0my\u001b[0m\u001b[0;34m)\u001b[0m \u001b[0;32mfor\u001b[0m \u001b[0malpha\u001b[0m\u001b[0;34m,\u001b[0m \u001b[0mbeta\u001b[0m \u001b[0;32min\u001b[0m \u001b[0mproduct\u001b[0m\u001b[0;34m(\u001b[0m\u001b[0mlist\u001b[0m\u001b[0;34m(\u001b[0m\u001b[0mrange\u001b[0m\u001b[0;34m(\u001b[0m\u001b[0;36m20\u001b[0m\u001b[0;34m,\u001b[0m\u001b[0;36m91\u001b[0m\u001b[0;34m)\u001b[0m\u001b[0;34m)\u001b[0m\u001b[0;34m,\u001b[0m \u001b[0mlist\u001b[0m\u001b[0;34m(\u001b[0m\u001b[0mrange\u001b[0m\u001b[0;34m(\u001b[0m\u001b[0;36m10\u001b[0m\u001b[0;34m,\u001b[0m\u001b[0;36m161\u001b[0m\u001b[0;34m)\u001b[0m\u001b[0;34m)\u001b[0m\u001b[0;34m)\u001b[0m\u001b[0;34m]\u001b[0m\u001b[0;34m)\u001b[0m\u001b[0;34m\u001b[0m\u001b[0;34m\u001b[0m\u001b[0m\n",
            "\u001b[0;32m<ipython-input-11-1679906a308a>\u001b[0m in \u001b[0;36mmax_range\u001b[0;34m(x, y, iterations, eta)\u001b[0m\n\u001b[1;32m      6\u001b[0m   \u001b[0;32mfor\u001b[0m \u001b[0mi\u001b[0m \u001b[0;32min\u001b[0m \u001b[0mrange\u001b[0m\u001b[0;34m(\u001b[0m\u001b[0miterations\u001b[0m\u001b[0;34m)\u001b[0m\u001b[0;34m:\u001b[0m\u001b[0;34m\u001b[0m\u001b[0;34m\u001b[0m\u001b[0m\n\u001b[1;32m      7\u001b[0m     \u001b[0mmax_alpha_val\u001b[0m \u001b[0;34m+=\u001b[0m \u001b[0meta\u001b[0m \u001b[0;34m*\u001b[0m \u001b[0mget_range_grad\u001b[0m\u001b[0;34m(\u001b[0m\u001b[0mmax_alpha_val\u001b[0m\u001b[0;34m,\u001b[0m \u001b[0mx\u001b[0m\u001b[0;34m,\u001b[0m \u001b[0my\u001b[0m\u001b[0;34m)\u001b[0m  \u001b[0;31m# gradient ascent approximation\u001b[0m\u001b[0;34m\u001b[0m\u001b[0;34m\u001b[0m\u001b[0m\n\u001b[0;32m----> 8\u001b[0;31m     \u001b[0mmax_alpha_val\u001b[0m \u001b[0;34m=\u001b[0m \u001b[0mmax\u001b[0m\u001b[0;34m(\u001b[0m\u001b[0mmin\u001b[0m\u001b[0;34m(\u001b[0m\u001b[0mmax_alpha_val\u001b[0m\u001b[0;34m,\u001b[0m \u001b[0;36m90\u001b[0m\u001b[0;34m)\u001b[0m\u001b[0;34m,\u001b[0m \u001b[0;36m20\u001b[0m\u001b[0;34m)\u001b[0m  \u001b[0;31m# constrain alpha to range\u001b[0m\u001b[0;34m\u001b[0m\u001b[0;34m\u001b[0m\u001b[0m\n\u001b[0m\u001b[1;32m      9\u001b[0m \u001b[0;34m\u001b[0m\u001b[0m\n\u001b[1;32m     10\u001b[0m   \u001b[0;32mreturn\u001b[0m \u001b[0mget_range\u001b[0m\u001b[0;34m(\u001b[0m\u001b[0mmax_alpha_val\u001b[0m\u001b[0;34m,\u001b[0m \u001b[0mx\u001b[0m\u001b[0;34m,\u001b[0m \u001b[0my\u001b[0m\u001b[0;34m)\u001b[0m\u001b[0;34m\u001b[0m\u001b[0;34m\u001b[0m\u001b[0m\n",
            "\u001b[0;31mTypeError\u001b[0m: '<' not supported between instances of 'int' and 'complex'"
          ]
        }
      ]
    }
  ]
}