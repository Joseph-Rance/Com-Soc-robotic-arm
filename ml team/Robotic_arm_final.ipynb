{
  "nbformat": 4,
  "nbformat_minor": 0,
  "metadata": {
    "colab": {
      "name": "Robotic arm final.ipynb",
      "provenance": [],
      "collapsed_sections": []
    },
    "kernelspec": {
      "name": "python3",
      "display_name": "Python 3"
    }
  },
  "cells": [
    {
      "cell_type": "code",
      "metadata": {
        "id": "lyXduQHlWx8o"
      },
      "source": [
        "from matplotlib.image import imread\n",
        "import matplotlib.pyplot as plt\n",
        "import numpy as np\n",
        "import time\n",
        "from math import sin, cos, radians"
      ],
      "execution_count": 5,
      "outputs": []
    },
    {
      "cell_type": "markdown",
      "metadata": {
        "id": "gXdBgArgXOk3"
      },
      "source": [
        "### Getting inputs"
      ]
    },
    {
      "cell_type": "code",
      "metadata": {
        "id": "DHQlRjR9XE47",
        "outputId": "824cd4e7-386e-4f3e-8a9c-4fade90c45ee",
        "colab": {
          "base_uri": "https://localhost:8080/",
          "height": 204
        }
      },
      "source": [
        "!wget https://raw.githubusercontent.com/Joseph-Rance/Com-Soc-robotic-arm/master/ml%20team/classified%20images/3/input%20background.jpg"
      ],
      "execution_count": 6,
      "outputs": [
        {
          "output_type": "stream",
          "text": [
            "--2020-10-25 15:30:51--  https://raw.githubusercontent.com/Joseph-Rance/Com-Soc-robotic-arm/master/ml%20team/classified%20images/3/input%20background.jpg\n",
            "Resolving raw.githubusercontent.com (raw.githubusercontent.com)... 151.101.0.133, 151.101.64.133, 151.101.128.133, ...\n",
            "Connecting to raw.githubusercontent.com (raw.githubusercontent.com)|151.101.0.133|:443... connected.\n",
            "HTTP request sent, awaiting response... 200 OK\n",
            "Length: 9661 (9.4K) [image/jpeg]\n",
            "Saving to: ‘input background.jpg.1’\n",
            "\n",
            "input background.jp 100%[===================>]   9.43K  --.-KB/s    in 0s      \n",
            "\n",
            "2020-10-25 15:30:52 (79.4 MB/s) - ‘input background.jpg.1’ saved [9661/9661]\n",
            "\n"
          ],
          "name": "stdout"
        }
      ]
    },
    {
      "cell_type": "code",
      "metadata": {
        "id": "_b-Pmwl1XGCn",
        "outputId": "5b8f243d-e303-41c7-b9b6-6d1e1fec832a",
        "colab": {
          "base_uri": "https://localhost:8080/",
          "height": 204
        }
      },
      "source": [
        "!wget https://raw.githubusercontent.com/Joseph-Rance/Com-Soc-robotic-arm/master/ml%20team/classified%20images/3/input%20image.jpg"
      ],
      "execution_count": 7,
      "outputs": [
        {
          "output_type": "stream",
          "text": [
            "--2020-10-25 15:30:52--  https://raw.githubusercontent.com/Joseph-Rance/Com-Soc-robotic-arm/master/ml%20team/classified%20images/3/input%20image.jpg\n",
            "Resolving raw.githubusercontent.com (raw.githubusercontent.com)... 151.101.0.133, 151.101.64.133, 151.101.128.133, ...\n",
            "Connecting to raw.githubusercontent.com (raw.githubusercontent.com)|151.101.0.133|:443... connected.\n",
            "HTTP request sent, awaiting response... 200 OK\n",
            "Length: 21020 (21K) [image/jpeg]\n",
            "Saving to: ‘input image.jpg.1’\n",
            "\n",
            "input image.jpg.1   100%[===================>]  20.53K  --.-KB/s    in 0.01s   \n",
            "\n",
            "2020-10-25 15:30:53 (1.64 MB/s) - ‘input image.jpg.1’ saved [21020/21020]\n",
            "\n"
          ],
          "name": "stdout"
        }
      ]
    },
    {
      "cell_type": "code",
      "metadata": {
        "id": "jf6_zPeXXHJ5",
        "outputId": "4eb5c5d9-f7e6-465d-d875-2eee53fdebc9",
        "colab": {
          "base_uri": "https://localhost:8080/",
          "height": 286
        }
      },
      "source": [
        "img1 = imread('input background.jpg')\n",
        "if img1.ndim == 3:\n",
        "    img1 = img1.mean(axis=2)\n",
        "\n",
        "img2 = imread('input image.jpg')\n",
        "if img2.ndim == 3:\n",
        "    img2 = img2.mean(axis=2)\n",
        "    \n",
        "plt.imshow(img2, cmap='gray')"
      ],
      "execution_count": 8,
      "outputs": [
        {
          "output_type": "execute_result",
          "data": {
            "text/plain": [
              "<matplotlib.image.AxesImage at 0x7f07a6e991d0>"
            ]
          },
          "metadata": {
            "tags": []
          },
          "execution_count": 8
        },
        {
          "output_type": "display_data",
          "data": {
            "image/png": "[encoded data removed]",
            "text/plain": [
              "<Figure size 432x288 with 1 Axes>"
            ]
          },
          "metadata": {
            "tags": [],
            "needs_background": "light"
          }
        }
      ]
    },
    {
      "cell_type": "markdown",
      "metadata": {
        "id": "ncwzo5CeXKnC"
      },
      "source": [
        "### Functions"
      ]
    },
    {
      "cell_type": "code",
      "metadata": {
        "id": "77oscMO_XIps"
      },
      "source": [
        "def median_filter(input_image, s):\n",
        "  new_image = np.zeros((input_image.shape[0], input_image.shape[1]))\n",
        "  for r in range(0, input_image.shape[1]):\n",
        "    for c in range(0, input_image.shape[0]):\n",
        "      values = []\n",
        "      for ri in range(max(0, r - s), min(input_image.shape[1], r + s)):\n",
        "        for ci in range(max(0, c - s), min(input_image.shape[0], c + s)):\n",
        "          values.append(input_image[ci, ri])\n",
        "      values = sorted(values)\n",
        "      new_image[c, r] = values[int(len(values) / 2)]\n",
        "  return new_image"
      ],
      "execution_count": 9,
      "outputs": []
    },
    {
      "cell_type": "code",
      "metadata": {
        "id": "y67TumJCXX82"
      },
      "source": [
        "threshold_function = lambda image, threshold : np.asarray([[pixel>=threshold for pixel in row] for row in image])"
      ],
      "execution_count": 10,
      "outputs": []
    },
    {
      "cell_type": "code",
      "metadata": {
        "id": "OMxUH5ff5xBE"
      },
      "source": [
        "downsize = lambda img, sf : np.array([[img[j, i] for i in range(0, len(img[0]), sf)] for j in range(0, len(img), sf)])"
      ],
      "execution_count": 11,
      "outputs": []
    },
    {
      "cell_type": "code",
      "metadata": {
        "id": "0scO01Ht3fHq"
      },
      "source": [
        "def dilate(image, radius):\n",
        "  new_image = np.zeros(image.shape)\n",
        "  image = np.pad(image, radius)\n",
        "  for y in range(2, image.shape[0]-2):\n",
        "    for x in range(2, image.shape[1]-2):\n",
        "      coords = [[(y+j, x+i) for j in range(-radius, radius+1)] for i in range(-radius, radius+1)]\n",
        "      total = np.asarray([[image[j] for j in i] for i in coords]).any()\n",
        "      new_image[y-radius*2, x-radius*2] = total != 0\n",
        "  return new_image"
      ],
      "execution_count": 12,
      "outputs": []
    },
    {
      "cell_type": "code",
      "metadata": {
        "id": "T25QxDB2XcH5"
      },
      "source": [
        "def DBSCAN(image, radius, core_threshold):\n",
        "\n",
        "  def RangeQuery(points, point1, radius):\n",
        "\n",
        "    def dist(p1, p2):\n",
        "      return ((p1[0]-p2[0])**2 + (p1[1]-p2[1])**2)**0.5\n",
        "\n",
        "    neighbors = []\n",
        "    for point2 in points:\n",
        "        if dist(point1[0], point2[0]) <= radius:\n",
        "            neighbors.append(point2)\n",
        "    return neighbors\n",
        "\n",
        "  points = []\n",
        "\n",
        "  for y in range(len(image)):\n",
        "    for x in range(len(image[y])):\n",
        "      if image[y,x] == 1:\n",
        "        points.append([(y,x), -1])\n",
        "\n",
        "  cluster = 0\n",
        "  for point in points:\n",
        "    if point[1] == -1:\n",
        "      neighbors = RangeQuery(points, point, radius)\n",
        "      if len(neighbors) < core_threshold:\n",
        "          point[1] = 0  # 0 -> noise\n",
        "          continue\n",
        "      cluster += 1\n",
        "      point[1] = cluster\n",
        "      neighbors.remove(point)\n",
        "      for new_point in neighbors:\n",
        "        if new_point[1] == 0:\n",
        "          new_point[1] = cluster\n",
        "        if new_point[1] != -1:\n",
        "          continue\n",
        "        new_point[1] = cluster\n",
        "        new_neighbors = RangeQuery(points, new_point, radius)\n",
        "        if len(neighbors) >= core_threshold:\n",
        "          neighbors += new_neighbors\n",
        "\n",
        "  centres = [[0,0] for i in range(cluster)]\n",
        "  totals = [0 for i in range(cluster)]\n",
        "  for point in points:\n",
        "    if point[1] != 0:\n",
        "      centres[point[1]-1][0] += point[0][0]\n",
        "      centres[point[1]-1][1] += point[0][1]\n",
        "      totals[point[1]-1] += 1\n",
        "\n",
        "  for i in range(len(centres)):\n",
        "    if totals[i] > 0:\n",
        "      centres[i][0] /= totals[i]\n",
        "      centres[i][1] /= totals[i]\n",
        "\n",
        "  loss = 0\n",
        "  for point in points:\n",
        "    distances = np.array([((point[0][0] - centre[0])**2 + (point[0][1] - centre[1])**2)**0.5 for centre in centres])\n",
        "    loss += min(distances)\n",
        "\n",
        "  return points, centres, loss"
      ],
      "execution_count": 13,
      "outputs": []
    },
    {
      "cell_type": "code",
      "metadata": {
        "id": "WKnM58ICXd__"
      },
      "source": [
        "def get_rotations(image, centres, centre_idx=0, debug=False):\n",
        "\n",
        "  def check_line_length(centre, angle, image):  # angle is from line to right\n",
        "\n",
        "    def dist(p1, p2):\n",
        "      return ((p1[0] - p2[0])**2 + (p1[1] - p2[1])**2)**0.5\n",
        "\n",
        "    hyp = 0\n",
        "    still_on_obj_pos = still_on_obj_neg = True\n",
        "    coords = [(), ()]\n",
        "\n",
        "    while still_on_obj_pos or still_on_obj_neg:\n",
        "      hyp += 2\n",
        "      dy = hyp * sin(angle)  # keep angle in radians\n",
        "      dx = hyp * cos(angle)\n",
        "      try:\n",
        "        if image[round(centre[0]+dy), round(centre[1]+dx)] == 0 and still_on_obj_pos:\n",
        "          still_on_obj_pos = False\n",
        "          coords[0] = (round(centre[0]+dy), round(centre[1]+dx))\n",
        "      except IndexError:\n",
        "        if still_on_obj_pos:\n",
        "          still_on_obj_pos = False\n",
        "          coords[0] = (round(centre[0]+dy), round(centre[1]+dx))\n",
        "\n",
        "      try:\n",
        "        if image[round(centre[0]-dy), round(centre[1]-dx)] == 0 and still_on_obj_neg:\n",
        "          still_on_obj_neg = False\n",
        "          coords[1] = (round(centre[0]-dy), round(centre[1]-dx))\n",
        "      except IndexError:\n",
        "        if still_on_obj_neg:\n",
        "          still_on_obj_neg = False\n",
        "          coords[1] = (round(centre[0]-dy), round(centre[1]-dx))\n",
        "\n",
        "    return dist(*coords)\n",
        "\n",
        "  if debug:\n",
        "    return [check_line_length(centres[centre_idx], radians(angle), image) for angle in range(0, 180, 2)]\n",
        "  return np.argmin(np.asarray([check_line_length(centres[centre_idx], radians(angle), image) for angle in range(0, 180, 2)]))  # only one returned because we only do one rotation per time"
      ],
      "execution_count": 14,
      "outputs": []
    },
    {
      "cell_type": "code",
      "metadata": {
        "id": "vhMqn1UHXfQV"
      },
      "source": [
        "def move_centres(image, centres):\n",
        "\n",
        "  new_centres = [(1e5, 1e5) for i in centres]\n",
        "\n",
        "  def dist(p1, p2):\n",
        "    return ((p1[0] - p2[0])**2 + (p1[1] - p2[1])**2)**0.5\n",
        "\n",
        "  points = []\n",
        "\n",
        "  for y in range(len(image)):\n",
        "    for x in range(len(image[y])):\n",
        "      if image[y,x] == 1:\n",
        "        points.append((y,x))\n",
        "\n",
        "  for point in points:\n",
        "    for i, centre in enumerate(centres):\n",
        "      distance = dist(point, centre)\n",
        "      if distance < new_centres[i][1]:\n",
        "        new_centres[i] = (point, distance)\n",
        "\n",
        "  return [i[0] for i in new_centres]"
      ],
      "execution_count": 15,
      "outputs": []
    },
    {
      "cell_type": "markdown",
      "metadata": {
        "id": "uc1RiCkFXhx7"
      },
      "source": [
        "### Runner"
      ]
    },
    {
      "cell_type": "code",
      "metadata": {
        "id": "bebcxfebXqAg"
      },
      "source": [
        "def add_line(centre, angle, image):\n",
        "\n",
        "    def dist(p1, p2):\n",
        "      return ((p1[0] - p2[0])**2 + (p1[1] - p2[1])**2)**0.5\n",
        "\n",
        "    hyp = 0\n",
        "    still_on_obj_pos = still_on_obj_neg = True\n",
        "    coords = [(), ()]\n",
        "\n",
        "    while still_on_obj_pos or still_on_obj_neg:\n",
        "      hyp += 2\n",
        "      dy = hyp * sin(angle)  # keep angle in radians\n",
        "      dx = hyp * cos(angle)\n",
        "      try:\n",
        "        if image[round(centre[0]+dy), round(centre[1]+dx)] == 0 and still_on_obj_pos:\n",
        "          still_on_obj_pos = False\n",
        "      except IndexError:\n",
        "        if still_on_obj_pos:\n",
        "          still_on_obj_pos = False\n",
        "\n",
        "      try:\n",
        "        if image[round(centre[0]-dy), round(centre[1]-dx)] == 0 and still_on_obj_neg:\n",
        "          still_on_obj_neg = False\n",
        "      except IndexError:\n",
        "        if still_on_obj_neg:\n",
        "          still_on_obj_neg = False\n",
        "        \n",
        "      image[round(centre[0]+dy), round(centre[1]+dx)], image[round(centre[0]-dy), round(centre[1]-dx)] = 2, 2\n",
        "\n",
        "    return image"
      ],
      "execution_count": 16,
      "outputs": []
    },
    {
      "cell_type": "code",
      "metadata": {
        "id": "n-cVwHMYXq46"
      },
      "source": [
        "def get_arm_pos(img1, img2, scaling=8, filter_radius=2, threshold=40, dbscan_radius=5, dbscan_core_threshold=3, dilate_size=2, centre_idx=2):\n",
        "\n",
        "  img = np.absolute(img1 - img2)\n",
        "  img = downsize(img, scaling)\n",
        "  img = median_filter(img, filter_radius)\n",
        "  img = threshold_function(img, threshold)\n",
        "  img = dilate(img, dilate_size)\n",
        "  centres = DBSCAN(img, dbscan_radius, dbscan_core_threshold)[1]\n",
        "  centres = move_centres(img, centres)\n",
        "  angle = get_rotations(img, centres, centre_idx=centre_idx)\n",
        "\n",
        "  return centres[centre_idx], angle, img"
      ],
      "execution_count": 22,
      "outputs": []
    },
    {
      "cell_type": "code",
      "metadata": {
        "id": "J5Wy8dctXmkj",
        "outputId": "358eaae8-df8a-48b3-e7b7-df0b5aceda28",
        "colab": {
          "base_uri": "https://localhost:8080/",
          "height": 285
        }
      },
      "source": [
        "start_time = time.clock()\n",
        "centre, angle, obj_image = get_arm_pos(img1, img2)\n",
        "print(f\"Time elapsed: {round(time.clock() - start_time, 2)}s\")\n",
        "\n",
        "img = add_line(centre, radians(angle), obj_image)\n",
        "plt.imshow(img)\n",
        "plt.scatter(centre[1], centre[0], c=\"r\")\n",
        "plt.show()"
      ],
      "execution_count": 23,
      "outputs": [
        {
          "output_type": "stream",
          "text": [
            "Time elapsed: 1.21s\n"
          ],
          "name": "stdout"
        },
        {
          "output_type": "display_data",
          "data": {
            "image/png": "[encoded data removed]",
            "text/plain": [
              "<Figure size 432x288 with 1 Axes>"
            ]
          },
          "metadata": {
            "tags": [],
            "needs_background": "light"
          }
        }
      ]
    },
    {
      "cell_type": "markdown",
      "metadata": {
        "id": "SzAUMeRgYzX3"
      },
      "source": [
        "# TODO:\n",
        "1. Fix rotation not working above (what changed to make it stop working?)\n",
        "2. Optimise parameters"
      ]
    },
    {
      "cell_type": "code",
      "metadata": {
        "id": "OnU1KkhTYlyG"
      },
      "source": [
        ""
      ],
      "execution_count": null,
      "outputs": []
    }
  ]
}