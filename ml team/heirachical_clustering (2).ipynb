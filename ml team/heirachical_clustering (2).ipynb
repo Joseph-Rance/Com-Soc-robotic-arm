{
  "nbformat": 4,
  "nbformat_minor": 0,
  "metadata": {
    "colab": {
      "name": "heirachical clustering.ipynb",
      "provenance": [],
      "collapsed_sections": []
    },
    "kernelspec": {
      "name": "python3",
      "display_name": "Python 3"
    }
  },
  "cells": [
    {
      "cell_type": "markdown",
      "metadata": {
        "id": "gi_TErrnlXYf",
        "colab_type": "text"
      },
      "source": [
        "Note: This takes ~2hrs to run so I have no idea whether it work :)"
      ]
    },
    {
      "cell_type": "code",
      "metadata": {
        "id": "f78OQT83XfaG",
        "colab_type": "code",
        "colab": {}
      },
      "source": [
        "import numpy as np\n",
        "from random import randint, choices\n",
        "import matplotlib.pyplot as plt\n",
        "from copy import deepcopy"
      ],
      "execution_count": 8,
      "outputs": []
    },
    {
      "cell_type": "code",
      "metadata": {
        "id": "d0URVsUtYZ86",
        "colab_type": "code",
        "colab": {}
      },
      "source": [
        "image_dimensions = {\"height\": 200, \"width\": 200}\n",
        "no_shapes = 3\n",
        "shape_radius = 20\n",
        "noise_level = 50 # larger -> less noise"
      ],
      "execution_count": 9,
      "outputs": []
    },
    {
      "cell_type": "code",
      "metadata": {
        "id": "YhPOh5aoYa54",
        "colab_type": "code",
        "colab": {
          "base_uri": "https://localhost:8080/",
          "height": 269
        },
        "outputId": "583d6168-de26-475c-ab74-3be24b92317f"
      },
      "source": [
        "image = np.zeros((image_dimensions[\"height\"], image_dimensions[\"width\"]))\n",
        "\n",
        "shapes = []\n",
        "for i in range(no_shapes):\n",
        "  centre = (randint(0, image_dimensions[\"width\"]-1), randint(0, image_dimensions[\"height\"]-1))\n",
        "  shapes.append([centre, shape_radius])\n",
        "\n",
        "for y in range(len(image)):\n",
        "  for x in range(len(image[y])):\n",
        "    for shape in shapes:\n",
        "      distance = ((y - shape[0][1])**2 + (x - shape[0][0])**2)**0.5\n",
        "      if distance <= shape[1] and randint(1, int(noise_level/(distance+1))) != 1 or randint(1, noise_level*10) == 1:\n",
        "        image[y,x] = 1\n",
        "\n",
        "imgplot = plt.imshow(image)"
      ],
      "execution_count": 10,
      "outputs": [
        {
          "output_type": "display_data",
          "data": {
            "image/png": "[encoded data removed]",
            "text/plain": [
              "<Figure size 432x288 with 1 Axes>"
            ]
          },
          "metadata": {
            "tags": [],
            "needs_background": "light"
          }
        }
      ]
    },
    {
      "cell_type": "code",
      "metadata": {
        "id": "pbeboa9uYcBx",
        "colab_type": "code",
        "colab": {}
      },
      "source": [
        "def agglomerative_clustering(image, centres):\n",
        "\n",
        "  points = []\n",
        "\n",
        "  for y in range(len(image)):\n",
        "    for x in range(len(image[y])):\n",
        "      if image[y,x] == 1:\n",
        "        points.append((y, x))\n",
        "\n",
        "  distance_matrix = []\n",
        "  for i in range(len(points)):\n",
        "    distance_matrix.append([((points[i][0] - points[j][0])**2 + (points[i][1] - points[j][1])**2)**0.5 for j in range(len(points))])  # inronically not a matrix\n",
        "  \n",
        "  clusters = [[point_index] for point_index in range(len(points))]\n",
        "\n",
        "  cluster_history = []\n",
        "\n",
        "  while len(clusters) > 1:\n",
        "\n",
        "    best_dist = 1e9  # arbitrary large number\n",
        "    best_indices = [0, 0]\n",
        "    for i in range(len(clusters)):\n",
        "      for j in range(len(clusters)):\n",
        "        if i != j:\n",
        "          dists = []\n",
        "          for point_1 in clusters[i]:\n",
        "            for point_2 in clusters[j]:\n",
        "              dists.append(distance_matrix[point_1][point_2])\n",
        "          dist = max(dists)\n",
        "          if best_dist > dist:\n",
        "            best_dist = distance\n",
        "            best_indices = [i, j]\n",
        "    \n",
        "    clusters[i] = clusters[i] + clusters[j]\n",
        "    del clusters[j]\n",
        "\n",
        "    cluster_history.append(deepcopy(clusters))\n",
        "\n",
        "  clusters = cluster_history[-centres]  # any more than the actual number of objects *should* be dumped in noise\n",
        "\n",
        "  centres = []\n",
        "  for cluster in clusters:\n",
        "    sum = [0, 0]\n",
        "    total = 0\n",
        "\n",
        "    for i in cluster:\n",
        "      sum[0], sum[1] = points[i][0], points[i][1]\n",
        "      total += 1\n",
        "\n",
        "    centres.append((sum[0]/total, sum[1]/total))\n",
        "\n",
        "  for i, cluster in enumerate(clusters):\n",
        "    for j in cluster:\n",
        "      points[j] = [points[j], i]\n",
        "\n",
        "  loss = 0\n",
        "  for point in points:\n",
        "    distances = np.array([((point[0][0] - centre[0])**2 + (point[0][1] - centre[1])**2)**0.5 for centre in centres])\n",
        "    loss += min(distances)\n",
        "\n",
        "  return points, centres, loss"
      ],
      "execution_count": 18,
      "outputs": []
    },
    {
      "cell_type": "code",
      "metadata": {
        "id": "EKoOfztidQfu",
        "colab_type": "code",
        "colab": {}
      },
      "source": [
        "print(agglomerative_clustering(image, 5))"
      ],
      "execution_count": null,
      "outputs": []
    },
    {
      "cell_type": "code",
      "metadata": {
        "id": "ZO0Kn40HdSfv",
        "colab_type": "code",
        "colab": {}
      },
      "source": [
        ""
      ],
      "execution_count": null,
      "outputs": []
    }
  ]
}