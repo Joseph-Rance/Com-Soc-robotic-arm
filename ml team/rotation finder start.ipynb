{
  "nbformat": 4,
  "nbformat_minor": 0,
  "metadata": {
    "colab": {
      "name": "com soc final.ipynb",
      "provenance": [],
      "collapsed_sections": []
    },
    "kernelspec": {
      "name": "python3",
      "display_name": "Python 3"
    }
  },
  "cells": [
    {
      "cell_type": "code",
      "metadata": {
        "id": "gmImYG8R4DoS",
        "colab_type": "code",
        "colab": {}
      },
      "source": [
        "from matplotlib.image import imread\n",
        "import matplotlib.pyplot as plt\n",
        "import numpy as np\n",
        "import time\n",
        "from math import sin, cos, radians"
      ],
      "execution_count": 1,
      "outputs": []
    },
    {
      "cell_type": "code",
      "metadata": {
        "id": "6DRocUd77G6b",
        "colab_type": "code",
        "colab": {
          "base_uri": "https://localhost:8080/",
          "height": 204
        },
        "outputId": "46eab856-fb4e-417d-afc4-d836eabc5293"
      },
      "source": [
        "!wget https://raw.githubusercontent.com/Joseph-Rance/Com-Soc-robotic-arm/master/ml%20team/classified%20images/3/input%20background.jpg"
      ],
      "execution_count": 2,
      "outputs": [
        {
          "output_type": "stream",
          "text": [
            "--2020-09-04 17:59:01--  https://raw.githubusercontent.com/Joseph-Rance/Com-Soc-robotic-arm/master/ml%20team/classified%20images/3/input%20background.jpg\n",
            "Resolving raw.githubusercontent.com (raw.githubusercontent.com)... 151.101.0.133, 151.101.64.133, 151.101.128.133, ...\n",
            "Connecting to raw.githubusercontent.com (raw.githubusercontent.com)|151.101.0.133|:443... connected.\n",
            "HTTP request sent, awaiting response... 200 OK\n",
            "Length: 9661 (9.4K) [image/jpeg]\n",
            "Saving to: ‘input background.jpg’\n",
            "\n",
            "input background.jp 100%[===================>]   9.43K  --.-KB/s    in 0s      \n",
            "\n",
            "2020-09-04 17:59:01 (90.4 MB/s) - ‘input background.jpg’ saved [9661/9661]\n",
            "\n"
          ],
          "name": "stdout"
        }
      ]
    },
    {
      "cell_type": "code",
      "metadata": {
        "id": "xLrHnUo_7MHD",
        "colab_type": "code",
        "colab": {
          "base_uri": "https://localhost:8080/",
          "height": 204
        },
        "outputId": "7aaedc7a-7e07-4f40-b267-ea2705070a04"
      },
      "source": [
        "!wget https://raw.githubusercontent.com/Joseph-Rance/Com-Soc-robotic-arm/master/ml%20team/classified%20images/3/input%20image.jpg"
      ],
      "execution_count": 3,
      "outputs": [
        {
          "output_type": "stream",
          "text": [
            "--2020-09-04 17:59:01--  https://raw.githubusercontent.com/Joseph-Rance/Com-Soc-robotic-arm/master/ml%20team/classified%20images/3/input%20image.jpg\n",
            "Resolving raw.githubusercontent.com (raw.githubusercontent.com)... 151.101.0.133, 151.101.64.133, 151.101.128.133, ...\n",
            "Connecting to raw.githubusercontent.com (raw.githubusercontent.com)|151.101.0.133|:443... connected.\n",
            "HTTP request sent, awaiting response... 200 OK\n",
            "Length: 21020 (21K) [image/jpeg]\n",
            "Saving to: ‘input image.jpg’\n",
            "\n",
            "input image.jpg     100%[===================>]  20.53K  --.-KB/s    in 0.01s   \n",
            "\n",
            "2020-09-04 17:59:02 (1.59 MB/s) - ‘input image.jpg’ saved [21020/21020]\n",
            "\n"
          ],
          "name": "stdout"
        }
      ]
    },
    {
      "cell_type": "code",
      "metadata": {
        "id": "mzleE79F3h2A",
        "colab_type": "code",
        "colab": {
          "base_uri": "https://localhost:8080/",
          "height": 286
        },
        "outputId": "0e9fbdfc-be04-4a96-ceea-ea827072c80f"
      },
      "source": [
        "img1 = imread('input background.jpg')\n",
        "if img1.ndim == 3:\n",
        "    img1 = img1.mean(axis=2)\n",
        "\n",
        "img2 = imread('input image.jpg')\n",
        "if img2.ndim == 3:\n",
        "    img2 = img2.mean(axis=2)\n",
        "    \n",
        "plt.imshow(img2, cmap='gray')"
      ],
      "execution_count": 4,
      "outputs": [
        {
          "output_type": "execute_result",
          "data": {
            "text/plain": [
              "<matplotlib.image.AxesImage at 0x7fde43f41a58>"
            ]
          },
          "metadata": {
            "tags": []
          },
          "execution_count": 4
        },
        {
          "output_type": "display_data",
          "data": {
            "image/png": "[encoded data removed]",
            "text/plain": [
              "<Figure size 432x288 with 1 Axes>"
            ]
          },
          "metadata": {
            "tags": [],
            "needs_background": "light"
          }
        }
      ]
    },
    {
      "cell_type": "code",
      "metadata": {
        "id": "VpnvrrLV2VqC",
        "colab_type": "code",
        "colab": {}
      },
      "source": [
        "def median_filter(input_image, s):\n",
        "    new_image = np.zeros((input_image.shape[0], input_image.shape[1]))\n",
        "    for r in range(0, input_image.shape[1]):\n",
        "        for c in range(0, input_image.shape[0]):\n",
        "            values = []\n",
        "            for ri in range(max(0, r - s), min(input_image.shape[1], r + s)):\n",
        "                for ci in range(max(0, c - s), min(input_image.shape[0], c + s)):\n",
        "                    values.append(input_image[ci, ri])\n",
        "            values = sorted(values)\n",
        "            new_image[c, r] = values[int(len(values) / 2)]\n",
        "\n",
        "    return new_image"
      ],
      "execution_count": 5,
      "outputs": []
    },
    {
      "cell_type": "code",
      "metadata": {
        "id": "Y4aghQw34AVx",
        "colab_type": "code",
        "colab": {}
      },
      "source": [
        "threshold_function = lambda image, threshold : np.asarray([[pixel>=threshold for pixel in row] for row in image])"
      ],
      "execution_count": 6,
      "outputs": []
    },
    {
      "cell_type": "code",
      "metadata": {
        "id": "OMxUH5ff5xBE",
        "colab_type": "code",
        "colab": {}
      },
      "source": [
        "downsize = lambda img, sf : np.array([[img[j, i] for i in range(0, len(img[0]), sf)] for j in range(0, len(img), sf)])"
      ],
      "execution_count": 7,
      "outputs": []
    },
    {
      "cell_type": "code",
      "metadata": {
        "id": "0scO01Ht3fHq",
        "colab_type": "code",
        "colab": {}
      },
      "source": [
        "def dilate(image, radius):\n",
        "  new_image = np.zeros(image.shape)\n",
        "  image = np.pad(image, radius)\n",
        "  for y in range(2, image.shape[0]-2):\n",
        "    for x in range(2, image.shape[1]-2):\n",
        "      coords = [[(y+j, x+i) for j in range(-radius, radius+1)] for i in range(-radius, radius+1)]\n",
        "      total = np.asarray([[image[j] for j in i] for i in coords]).any()\n",
        "      new_image[y-radius*2, x-radius*2] = total != 0\n",
        "  return new_image"
      ],
      "execution_count": 8,
      "outputs": []
    },
    {
      "cell_type": "code",
      "metadata": {
        "id": "Yb03sOna4YJ_",
        "colab_type": "code",
        "colab": {}
      },
      "source": [
        "def DBSCAN(image, radius, core_threshold):\n",
        "\n",
        "  points = []\n",
        "\n",
        "  for y in range(len(image)):\n",
        "    for x in range(len(image[y])):\n",
        "      if image[y,x] == 1:\n",
        "        points.append([(y,x), 0])\n",
        "\n",
        "  groups = [0]  # group 0 -> noise (default)\n",
        "\n",
        "  for point in points:\n",
        "\n",
        "    surrounding_points = []\n",
        "    for other_point in points:\n",
        "      if ((point[0][0] - other_point[0][0])**2 + (point[0][1] - other_point[0][1])**2)**0.5 <= radius and point != other_point:\n",
        "        surrounding_points.append(other_point)\n",
        "    \n",
        "    if len(surrounding_points) >= core_threshold:\n",
        "\n",
        "      if sum([p[1] for p in surrounding_points]) == 0:  # no groups\n",
        "        new_group = groups[-1] + 1\n",
        "        groups.append(new_group)\n",
        "\n",
        "        for p in surrounding_points:\n",
        "          p[1] = new_group  # changes main points list as list is reference\n",
        "\n",
        "      elif sum([p[1]>0 for p in surrounding_points]) == 1:  # one group\n",
        "        \n",
        "        group = -1  # group should never stay -1\n",
        "        for p in surrounding_points:\n",
        "            group = p[1] if p[1] > 0 else group\n",
        "\n",
        "        for p in surrounding_points:\n",
        "          p[1] = group\n",
        "\n",
        "      else:  # >1 group\n",
        "\n",
        "        surrounding_groups = []\n",
        "        for p in surrounding_points:\n",
        "            if p[1] not in surrounding_groups and p[1] != 0:\n",
        "              surrounding_groups.append(p[1])\n",
        "\n",
        "        for p in surrounding_points:\n",
        "          p[1] = surrounding_groups[0]\n",
        "\n",
        "        for p in points:\n",
        "          if p[1] in surrounding_groups:\n",
        "            p[1] = surrounding_groups[0]\n",
        "\n",
        "  del groups[0]  # noise group\n",
        "  centres = [[0, 0] for i in groups]\n",
        "  totals = [0 for i in groups]\n",
        "\n",
        "  for point in points:\n",
        "    if point[1] != 0:\n",
        "      centres[groups.index(point[1])][0] += point[0][0]\n",
        "      centres[groups.index(point[1])][1] += point[0][1]\n",
        "      totals[groups.index(point[1])] += 1\n",
        "\n",
        "  for i in range(len(groups)):\n",
        "    if totals[i] > 0:\n",
        "      centres[i][0] /= totals[i]\n",
        "      centres[i][1] /= totals[i]\n",
        "\n",
        "  loss = 0\n",
        "  for point in points:\n",
        "    distances = np.array([((point[0][0] - centre[0])**2 + (point[0][1] - centre[1])**2)**0.5 for centre in centres])\n",
        "    loss += min(distances)\n",
        "\n",
        "  del_list = []\n",
        "  for i in range(len(centres)):\n",
        "    if centres[i] == [0, 0]:\n",
        "      del_list.append(i)\n",
        "  for i in sorted(del_list)[::-1]: del centres[i]\n",
        "\n",
        "  return points, centres, loss"
      ],
      "execution_count": 9,
      "outputs": []
    },
    {
      "cell_type": "code",
      "metadata": {
        "id": "4ZZjcy6nRYAY",
        "colab_type": "code",
        "colab": {}
      },
      "source": [
        "def get_rotations(image, centres):\n",
        "\n",
        "  def check_line_length(centre, angle, image):  # angle is from line to right\n",
        "\n",
        "    def dist(p1, p2):\n",
        "      return ((p1[0] - p2[0])**2 + (p1[1] - p2[1])**2)**0.5\n",
        "\n",
        "    hyp = 0\n",
        "    still_on_obj_pos = still_on_obj_neg = True\n",
        "    coords = [(), ()]\n",
        "\n",
        "    while still_on_obj_pos or still_on_obj_neg:\n",
        "      hyp += 2\n",
        "      dy = hyp * sin(angle)  # keep angle in radians\n",
        "      dx = hyp * cos(angle)\n",
        "      try:\n",
        "        if image[round(centre[0]+dy), round(centre[1]+dx)] == 0 and still_on_obj_pos:\n",
        "          still_on_obj_pos = False\n",
        "          coords[0] = (round(centre[0]+dy), round(centre[1]+dx))\n",
        "      except IndexError:\n",
        "        if still_on_obj_pos:\n",
        "          still_on_obj_pos = False\n",
        "          coords[0] = (round(centre[0]+dy), round(centre[1]+dx))\n",
        "\n",
        "      try:\n",
        "        if image[round(centre[0]-dy), round(centre[1]-dx)] == 0 and still_on_obj_neg:\n",
        "          still_on_obj_neg = False\n",
        "          coords[1] = (round(centre[0]-dy), round(centre[1]-dx))\n",
        "      except IndexError:\n",
        "        if still_on_obj_neg:\n",
        "          still_on_obj_neg = False\n",
        "          coords[1] = (round(centre[0]-dy), round(centre[1]-dx))\n",
        "\n",
        "    return dist(*coords)\n",
        "\n",
        "  return [check_line_length(centres[0], radians(angle), image) for angle in range(0, 180, 2)]\n",
        "  return np.argmin(np.asarray([check_line_length(centres[0], radians(angle), image) for angle in range(0, 180, 2)]))  # only one returned because we only do one rotation per time"
      ],
      "execution_count": 38,
      "outputs": []
    },
    {
      "cell_type": "code",
      "metadata": {
        "id": "_dbiGIMZ_0ap",
        "colab_type": "code",
        "colab": {}
      },
      "source": [
        "scaling = 8\n",
        "filter_radius = 2\n",
        "threshold = 60\n",
        "dbscan_radius = 5\n",
        "dbscan_core_threshold = 3"
      ],
      "execution_count": 11,
      "outputs": []
    },
    {
      "cell_type": "code",
      "metadata": {
        "id": "4UmnZQgA359X",
        "colab_type": "code",
        "colab": {
          "base_uri": "https://localhost:8080/",
          "height": 51
        },
        "outputId": "921346de-920f-47c3-e0a1-7769da5ea306"
      },
      "source": [
        "start_time = time.clock()\n",
        "img = np.absolute(img1 - img2)\n",
        "img = downsize(img, scaling)\n",
        "img = median_filter(img, filter_radius)\n",
        "img = threshold_function(img, threshold)\n",
        "img = dilate(img, 2)\n",
        "centres = DBSCAN(img, dbscan_radius, dbscan_core_threshold)[1]\n",
        "print(centres)\n",
        "print(f\"Time elapsed: {round(time.clock() - start_time, 2)}s\")"
      ],
      "execution_count": 12,
      "outputs": [
        {
          "output_type": "stream",
          "text": [
            "[[18.78723404255319, 34.56534954407295], [21.99173553719008, 18.60330578512397], [41.91935483870968, 10.201612903225806], [57.97849462365591, 30.10322580645161]]\n",
            "Time elapsed: 1.1s\n"
          ],
          "name": "stdout"
        }
      ]
    },
    {
      "cell_type": "code",
      "metadata": {
        "id": "pEB0IKb17FOe",
        "colab_type": "code",
        "colab": {
          "base_uri": "https://localhost:8080/",
          "height": 269
        },
        "outputId": "31345145-a929-4f04-c00f-8f8ecf2d67f8"
      },
      "source": [
        "plt.imshow(img2, cmap=\"gray\")\n",
        "plt.scatter([centre[1]*scaling for centre in centres], [centre[0]*scaling for centre in centres], c=\"r\")\n",
        "plt.show()"
      ],
      "execution_count": 13,
      "outputs": [
        {
          "output_type": "display_data",
          "data": {
            "image/png": "[encoded data removed]",
            "text/plain": [
              "<Figure size 432x288 with 1 Axes>"
            ]
          },
          "metadata": {
            "tags": [],
            "needs_background": "light"
          }
        }
      ]
    },
    {
      "cell_type": "code",
      "metadata": {
        "id": "et3dWuNq8XRH",
        "colab_type": "code",
        "colab": {
          "base_uri": "https://localhost:8080/",
          "height": 269
        },
        "outputId": "6a8fcd08-f169-4f31-e657-cf9d2ad75dd8"
      },
      "source": [
        "start_time = time.clock()\n",
        "img = np.absolute(img1 - img2)\n",
        "img = downsize(img, 4)\n",
        "img = median_filter(img, 2)\n",
        "img = threshold_function(img, 40)\n",
        "img = dilate(img, 2)\n",
        "plt.imshow(img, cmap=\"gray\")\n",
        "plt.show()"
      ],
      "execution_count": 14,
      "outputs": [
        {
          "output_type": "display_data",
          "data": {
            "image/png": "[encoded data removed]",
            "text/plain": [
              "<Figure size 432x288 with 1 Axes>"
            ]
          },
          "metadata": {
            "tags": [],
            "needs_background": "light"
          }
        }
      ]
    },
    {
      "cell_type": "code",
      "metadata": {
        "id": "DqOww5V18m5z",
        "colab_type": "code",
        "colab": {
          "base_uri": "https://localhost:8080/",
          "height": 286
        },
        "outputId": "37230c0f-dabb-4e6d-ba45-c5b9eb802d18"
      },
      "source": [
        "start_time = time.clock()\n",
        "img = np.absolute(img1 - img2)\n",
        "img = downsize(img, scaling)\n",
        "img = median_filter(img, filter_radius)\n",
        "img = threshold_function(img, threshold)\n",
        "img = dilate(img, 2)\n",
        "points = DBSCAN(img, dbscan_radius, dbscan_core_threshold)[0]\n",
        "\n",
        "temp_image = np.zeros((img.shape[0], img.shape[1]))\n",
        "for point in points:\n",
        "  temp_image[point[0][0], point[0][1]] = point[1] + 1\n",
        "imgplot = plt.imshow(img2, cmap=\"gray\")\n",
        "plt.scatter([centre[1]*scaling for centre in centres], [centre[0]*scaling for centre in centres], c=\"r\")\n",
        "#imgplot = plt.imshow(temp_image)\n",
        "#plt.scatter([centre[1] for centre in centres], [centre[0] for centre in centres], c=\"r\")"
      ],
      "execution_count": 15,
      "outputs": [
        {
          "output_type": "execute_result",
          "data": {
            "text/plain": [
              "<matplotlib.collections.PathCollection at 0x7fde43f2c7b8>"
            ]
          },
          "metadata": {
            "tags": []
          },
          "execution_count": 15
        },
        {
          "output_type": "display_data",
          "data": {
            "image/png": "[encoded data removed]",
            "text/plain": [
              "<Figure size 432x288 with 1 Axes>"
            ]
          },
          "metadata": {
            "tags": [],
            "needs_background": "light"
          }
        }
      ]
    },
    {
      "cell_type": "code",
      "metadata": {
        "id": "W50qVW_LGHCf",
        "colab_type": "code",
        "colab": {}
      },
      "source": [
        "def DBSCAN_outline(image, radius, core_threshold):\n",
        "\n",
        "  def dist(p1, p2):\n",
        "    return ((p1[0] - p2[0])**2 + (p1[1] - p2[1])**2)**0.5\n",
        "\n",
        "  points = []\n",
        "\n",
        "  for y in range(len(image)):\n",
        "    for x in range(len(image[y])):\n",
        "      if image[y,x] == 1:\n",
        "        points.append((y,x))\n",
        "\n",
        "  for point in points:\n",
        "\n",
        "    no_surrounding_points = 0\n",
        "\n",
        "    for other_point in points:\n",
        "      if dist(point, other_point) <= radius:\n",
        "        no_surrounding_points += 1\n",
        "    \n",
        "    if no_surrounding_points >= core_threshold:\n",
        "      image[point] = 2\n",
        "\n",
        "  return image"
      ],
      "execution_count": 16,
      "outputs": []
    },
    {
      "cell_type": "code",
      "metadata": {
        "id": "ZlOq0J4m9fHH",
        "colab_type": "code",
        "colab": {}
      },
      "source": [
        "scaling = 8\n",
        "filter_radius = 2\n",
        "threshold = 40\n",
        "dbscan_radius = 5\n",
        "dbscan_core_threshold = 3\n",
        "dilate_size = 2"
      ],
      "execution_count": 17,
      "outputs": []
    },
    {
      "cell_type": "code",
      "metadata": {
        "id": "jMq3VGaU6QOz",
        "colab_type": "code",
        "colab": {
          "base_uri": "https://localhost:8080/",
          "height": 1000
        },
        "outputId": "f2813b35-2c11-4630-a6e8-d70189746d84"
      },
      "source": [
        "start_time = time.clock()\n",
        "img = np.absolute(img1 - img2)\n",
        "img = downsize(img, scaling)\n",
        "img = median_filter(img, filter_radius)\n",
        "img = threshold_function(img, threshold)\n",
        "img = dilate(img, dilate_size)\n",
        "centres = DBSCAN(img, dbscan_radius, dbscan_core_threshold)[1]  # add keeping centres inside objs\n",
        "angle = get_rotations(img, centres)\n",
        "\n",
        "print(f\"Time elapsed: {round(time.clock() - start_time, 2)}s\")\n",
        "print(angle)\n",
        "plt.imshow(img)\n",
        "plt.scatter(centres[0][1], centres[0][0], c=\"r\")\n",
        "# add potting line\n",
        "plt.show()"
      ],
      "execution_count": 39,
      "outputs": [
        {
          "output_type": "stream",
          "text": [
            "------------------------------\n",
            "18.726190476190474 36.654761904761905\n",
            "------------------------------\n",
            "18.726190476190474 36.654761904761905\n",
            "------------------------------\n",
            "18.726190476190474 36.654761904761905\n",
            "------------------------------\n",
            "18.726190476190474 36.654761904761905\n",
            "------------------------------\n",
            "18.726190476190474 36.654761904761905\n",
            "------------------------------\n",
            "18.726190476190474 36.654761904761905\n",
            "------------------------------\n",
            "18.726190476190474 36.654761904761905\n",
            "------------------------------\n",
            "18.726190476190474 36.654761904761905\n",
            "------------------------------\n",
            "19.726190476190474 36.654761904761905\n",
            "------------------------------\n",
            "19.726190476190474 36.654761904761905\n",
            "------------------------------\n",
            "19.726190476190474 36.654761904761905\n",
            "------------------------------\n",
            "19.726190476190474 36.654761904761905\n",
            "------------------------------\n",
            "19.726190476190474 36.654761904761905\n",
            "------------------------------\n",
            "19.726190476190474 36.654761904761905\n",
            "------------------------------\n",
            "19.726190476190474 36.654761904761905\n",
            "------------------------------\n",
            "19.726190476190474 36.654761904761905\n",
            "------------------------------\n",
            "19.726190476190474 36.654761904761905\n",
            "------------------------------\n",
            "19.726190476190474 36.654761904761905\n",
            "------------------------------\n",
            "19.726190476190474 36.654761904761905\n",
            "------------------------------\n",
            "19.726190476190474 36.654761904761905\n",
            "------------------------------\n",
            "19.726190476190474 36.654761904761905\n",
            "------------------------------\n",
            "19.726190476190474 35.654761904761905\n",
            "------------------------------\n",
            "19.726190476190474 35.654761904761905\n",
            "------------------------------\n",
            "19.726190476190474 35.654761904761905\n",
            "------------------------------\n",
            "19.726190476190474 35.654761904761905\n",
            "------------------------------\n",
            "20.726190476190474 35.654761904761905\n",
            "------------------------------\n",
            "20.726190476190474 35.654761904761905\n",
            "------------------------------\n",
            "20.726190476190474 35.654761904761905\n",
            "------------------------------\n",
            "20.726190476190474 35.654761904761905\n",
            "------------------------------\n",
            "20.726190476190474 35.654761904761905\n",
            "------------------------------\n",
            "20.726190476190474 35.654761904761905\n",
            "------------------------------\n",
            "20.726190476190474 35.654761904761905\n",
            "------------------------------\n",
            "20.726190476190474 35.654761904761905\n",
            "------------------------------\n",
            "20.726190476190474 35.654761904761905\n",
            "------------------------------\n",
            "20.726190476190474 35.654761904761905\n",
            "------------------------------\n",
            "20.726190476190474 35.654761904761905\n",
            "------------------------------\n",
            "20.726190476190474 35.654761904761905\n",
            "------------------------------\n",
            "20.726190476190474 35.654761904761905\n",
            "------------------------------\n",
            "20.726190476190474 34.654761904761905\n",
            "------------------------------\n",
            "20.726190476190474 34.654761904761905\n",
            "------------------------------\n",
            "20.726190476190474 34.654761904761905\n",
            "------------------------------\n",
            "20.726190476190474 34.654761904761905\n",
            "------------------------------\n",
            "20.726190476190474 34.654761904761905\n",
            "------------------------------\n",
            "20.726190476190474 34.654761904761905\n",
            "------------------------------\n",
            "20.726190476190474 34.654761904761905\n",
            "------------------------------\n",
            "20.726190476190474 34.654761904761905\n",
            "------------------------------\n",
            "20.726190476190474 34.654761904761905\n",
            "------------------------------\n",
            "20.726190476190474 34.654761904761905\n",
            "------------------------------\n",
            "20.726190476190474 34.654761904761905\n",
            "------------------------------\n",
            "20.726190476190474 34.654761904761905\n",
            "------------------------------\n",
            "20.726190476190474 34.654761904761905\n",
            "------------------------------\n",
            "20.726190476190474 34.654761904761905\n",
            "------------------------------\n",
            "20.726190476190474 34.654761904761905\n",
            "------------------------------\n",
            "20.726190476190474 33.654761904761905\n",
            "------------------------------\n",
            "20.726190476190474 33.654761904761905\n",
            "------------------------------\n",
            "20.726190476190474 33.654761904761905\n",
            "------------------------------\n",
            "20.726190476190474 33.654761904761905\n",
            "------------------------------\n",
            "20.726190476190474 33.654761904761905\n",
            "------------------------------\n",
            "20.726190476190474 33.654761904761905\n",
            "------------------------------\n",
            "20.726190476190474 33.654761904761905\n",
            "------------------------------\n",
            "20.726190476190474 33.654761904761905\n",
            "------------------------------\n",
            "20.726190476190474 33.654761904761905\n",
            "------------------------------\n",
            "20.726190476190474 33.654761904761905\n",
            "------------------------------\n",
            "20.726190476190474 33.654761904761905\n",
            "------------------------------\n",
            "20.726190476190474 33.654761904761905\n",
            "------------------------------\n",
            "20.726190476190474 33.654761904761905\n",
            "------------------------------\n",
            "19.726190476190474 33.654761904761905\n",
            "------------------------------\n",
            "19.726190476190474 33.654761904761905\n",
            "------------------------------\n",
            "19.726190476190474 33.654761904761905\n",
            "------------------------------\n",
            "19.726190476190474 33.654761904761905\n",
            "------------------------------\n",
            "19.726190476190474 32.654761904761905\n",
            "------------------------------\n",
            "19.726190476190474 32.654761904761905\n",
            "------------------------------\n",
            "19.726190476190474 32.654761904761905\n",
            "------------------------------\n",
            "19.726190476190474 32.654761904761905\n",
            "------------------------------\n",
            "19.726190476190474 32.654761904761905\n",
            "------------------------------\n",
            "19.726190476190474 32.654761904761905\n",
            "------------------------------\n",
            "19.726190476190474 32.654761904761905\n",
            "------------------------------\n",
            "19.726190476190474 32.654761904761905\n",
            "------------------------------\n",
            "19.726190476190474 32.654761904761905\n",
            "------------------------------\n",
            "19.726190476190474 32.654761904761905\n",
            "------------------------------\n",
            "19.726190476190474 32.654761904761905\n",
            "------------------------------\n",
            "19.726190476190474 32.654761904761905\n",
            "------------------------------\n",
            "19.726190476190474 32.654761904761905\n",
            "------------------------------\n",
            "18.726190476190474 32.654761904761905\n",
            "------------------------------\n",
            "18.726190476190474 32.654761904761905\n",
            "------------------------------\n",
            "18.726190476190474 32.654761904761905\n",
            "------------------------------\n",
            "18.726190476190474 32.654761904761905\n",
            "------------------------------\n",
            "18.726190476190474 32.654761904761905\n",
            "------------------------------\n",
            "18.726190476190474 32.654761904761905\n",
            "------------------------------\n",
            "18.726190476190474 32.654761904761905\n",
            "Time elapsed: 1.33s\n",
            "[4.0, 4.0, 4.0, 4.0, 4.0, 4.0, 4.0, 4.0, 4.47213595499958, 4.47213595499958, 4.47213595499958, 4.47213595499958, 4.47213595499958, 4.47213595499958, 4.47213595499958, 4.47213595499958, 4.47213595499958, 4.47213595499958, 4.47213595499958, 4.47213595499958, 4.47213595499958, 2.8284271247461903, 2.8284271247461903, 2.8284271247461903, 2.8284271247461903, 4.47213595499958, 4.47213595499958, 4.47213595499958, 4.47213595499958, 4.47213595499958, 4.47213595499958, 4.47213595499958, 4.47213595499958, 4.47213595499958, 4.47213595499958, 4.47213595499958, 4.47213595499958, 4.47213595499958, 4.0, 4.0, 4.0, 4.0, 4.0, 4.0, 4.0, 4.0, 4.0, 4.0, 4.0, 4.0, 4.0, 4.0, 4.0, 4.47213595499958, 4.47213595499958, 4.47213595499958, 4.47213595499958, 4.47213595499958, 4.47213595499958, 4.47213595499958, 4.47213595499958, 4.47213595499958, 4.47213595499958, 4.47213595499958, 4.47213595499958, 4.47213595499958, 2.8284271247461903, 2.8284271247461903, 2.8284271247461903, 2.8284271247461903, 4.47213595499958, 4.47213595499958, 4.47213595499958, 4.47213595499958, 4.47213595499958, 4.47213595499958, 4.47213595499958, 4.47213595499958, 4.47213595499958, 4.47213595499958, 4.47213595499958, 4.47213595499958, 4.47213595499958, 4.0, 4.0, 4.0, 4.0, 4.0, 4.0, 4.0]\n"
          ],
          "name": "stdout"
        },
        {
          "output_type": "display_data",
          "data": {
            "image/png": "[encoded data removed]",
            "text/plain": [
              "<Figure size 432x288 with 1 Axes>"
            ]
          },
          "metadata": {
            "tags": [],
            "needs_background": "light"
          }
        }
      ]
    },
    {
      "cell_type": "code",
      "metadata": {
        "id": "WBVzJ6UdFCYg",
        "colab_type": "code",
        "colab": {
          "base_uri": "https://localhost:8080/",
          "height": 34
        },
        "outputId": "340b0d6a-d0ae-4510-c20a-8d5e6d8698e5"
      },
      "source": [
        "range(0, 180, 2)"
      ],
      "execution_count": 19,
      "outputs": [
        {
          "output_type": "execute_result",
          "data": {
            "text/plain": [
              "range(0, 180, 2)"
            ]
          },
          "metadata": {
            "tags": []
          },
          "execution_count": 19
        }
      ]
    },
    {
      "cell_type": "code",
      "metadata": {
        "id": "tDWOk2PcGwgl",
        "colab_type": "code",
        "colab": {
          "base_uri": "https://localhost:8080/",
          "height": 54
        },
        "outputId": "10c25285-c9c9-458b-afd2-e11b2c9ef104"
      },
      "source": [
        "print(angle)"
      ],
      "execution_count": 20,
      "outputs": [
        {
          "output_type": "stream",
          "text": [
            "[4.0, 4.0, 4.0, 4.0, 4.0, 4.0, 4.0, 4.0, 4.47213595499958, 4.47213595499958, 4.47213595499958, 4.47213595499958, 4.47213595499958, 4.47213595499958, 4.47213595499958, 4.47213595499958, 4.47213595499958, 4.47213595499958, 4.47213595499958, 4.47213595499958, 4.47213595499958, 2.8284271247461903, 2.8284271247461903, 2.8284271247461903, 2.8284271247461903, 4.47213595499958, 4.47213595499958, 4.47213595499958, 4.47213595499958, 4.47213595499958, 4.47213595499958, 4.47213595499958, 4.47213595499958, 4.47213595499958, 4.47213595499958, 4.47213595499958, 4.47213595499958, 4.47213595499958, 4.0, 4.0, 4.0, 4.0, 4.0, 4.0, 4.0, 4.0, 4.0, 4.0, 4.0, 4.0, 4.0, 4.0, 4.0, 4.47213595499958, 4.47213595499958, 4.47213595499958, 4.47213595499958, 4.47213595499958, 4.47213595499958, 4.47213595499958, 4.47213595499958, 4.47213595499958, 4.47213595499958, 4.47213595499958, 4.47213595499958, 4.47213595499958, 2.8284271247461903, 2.8284271247461903, 2.8284271247461903, 2.8284271247461903, 4.47213595499958, 4.47213595499958, 4.47213595499958, 4.47213595499958, 4.47213595499958, 4.47213595499958, 4.47213595499958, 4.47213595499958, 4.47213595499958, 4.47213595499958, 4.47213595499958, 4.47213595499958, 4.47213595499958, 4.0, 4.0, 4.0, 4.0, 4.0, 4.0, 4.0]\n"
          ],
          "name": "stdout"
        }
      ]
    },
    {
      "cell_type": "code",
      "metadata": {
        "id": "eCmz21XtGyVO",
        "colab_type": "code",
        "colab": {
          "base_uri": "https://localhost:8080/",
          "height": 282
        },
        "outputId": "cc535d25-739b-48d8-e12d-f4392c9987d6"
      },
      "source": [
        "plt.plot(angle)"
      ],
      "execution_count": 21,
      "outputs": [
        {
          "output_type": "execute_result",
          "data": {
            "text/plain": [
              "[<matplotlib.lines.Line2D at 0x7fde438a9fd0>]"
            ]
          },
          "metadata": {
            "tags": []
          },
          "execution_count": 21
        },
        {
          "output_type": "display_data",
          "data": {
            "image/png": "[encoded data removed]",
            "text/plain": [
              "<Figure size 432x288 with 1 Axes>"
            ]
          },
          "metadata": {
            "tags": [],
            "needs_background": "light"
          }
        }
      ]
    },
    {
      "cell_type": "code",
      "metadata": {
        "id": "LIZTOr58G2PT",
        "colab_type": "code",
        "colab": {}
      },
      "source": [
        "# add graph for optimised params"
      ],
      "execution_count": 22,
      "outputs": []
    }
  ]
}
