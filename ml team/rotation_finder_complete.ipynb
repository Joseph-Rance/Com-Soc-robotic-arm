{
  "nbformat": 4,
  "nbformat_minor": 0,
  "metadata": {
    "colab": {
      "name": "rotation finder complete.ipynb",
      "provenance": [],
      "collapsed_sections": []
    },
    "kernelspec": {
      "name": "python3",
      "display_name": "Python 3"
    }
  },
  "cells": [
    {
      "cell_type": "code",
      "metadata": {
        "id": "gmImYG8R4DoS",
        "colab_type": "code",
        "colab": {}
      },
      "source": [
        "from matplotlib.image import imread\n",
        "import matplotlib.pyplot as plt\n",
        "import numpy as np\n",
        "import time\n",
        "from math import sin, cos, radians"
      ],
      "execution_count": null,
      "outputs": []
    },
    {
      "cell_type": "code",
      "metadata": {
        "id": "6DRocUd77G6b",
        "colab_type": "code",
        "colab": {
          "base_uri": "https://localhost:8080/",
          "height": 204
        },
        "outputId": "2f610dcb-419a-4a75-c4b8-2cbb34ef9672"
      },
      "source": [
        "!wget https://raw.githubusercontent.com/Joseph-Rance/Com-Soc-robotic-arm/master/ml%20team/classified%20images/3/input%20background.jpg"
      ],
      "execution_count": null,
      "outputs": [
        {
          "output_type": "stream",
          "text": [
            "--2020-09-07 14:24:50--  https://raw.githubusercontent.com/Joseph-Rance/Com-Soc-robotic-arm/master/ml%20team/classified%20images/3/input%20background.jpg\n",
            "Resolving raw.githubusercontent.com (raw.githubusercontent.com)... 151.101.0.133, 151.101.64.133, 151.101.128.133, ...\n",
            "Connecting to raw.githubusercontent.com (raw.githubusercontent.com)|151.101.0.133|:443... connected.\n",
            "HTTP request sent, awaiting response... 200 OK\n",
            "Length: 9661 (9.4K) [image/jpeg]\n",
            "Saving to: ‘input background.jpg’\n",
            "\n",
            "input background.jp 100%[===================>]   9.43K  --.-KB/s    in 0s      \n",
            "\n",
            "2020-09-07 14:24:51 (71.8 MB/s) - ‘input background.jpg’ saved [9661/9661]\n",
            "\n"
          ],
          "name": "stdout"
        }
      ]
    },
    {
      "cell_type": "code",
      "metadata": {
        "id": "xLrHnUo_7MHD",
        "colab_type": "code",
        "colab": {
          "base_uri": "https://localhost:8080/",
          "height": 204
        },
        "outputId": "3d30ba21-65d4-4c33-e904-6165dfda85cf"
      },
      "source": [
        "!wget https://raw.githubusercontent.com/Joseph-Rance/Com-Soc-robotic-arm/master/ml%20team/classified%20images/3/input%20image.jpg"
      ],
      "execution_count": null,
      "outputs": [
        {
          "output_type": "stream",
          "text": [
            "--2020-09-07 14:24:51--  https://raw.githubusercontent.com/Joseph-Rance/Com-Soc-robotic-arm/master/ml%20team/classified%20images/3/input%20image.jpg\n",
            "Resolving raw.githubusercontent.com (raw.githubusercontent.com)... 151.101.0.133, 151.101.64.133, 151.101.128.133, ...\n",
            "Connecting to raw.githubusercontent.com (raw.githubusercontent.com)|151.101.0.133|:443... connected.\n",
            "HTTP request sent, awaiting response... 200 OK\n",
            "Length: 21020 (21K) [image/jpeg]\n",
            "Saving to: ‘input image.jpg’\n",
            "\n",
            "input image.jpg     100%[===================>]  20.53K  --.-KB/s    in 0.004s  \n",
            "\n",
            "2020-09-07 14:24:51 (4.84 MB/s) - ‘input image.jpg’ saved [21020/21020]\n",
            "\n"
          ],
          "name": "stdout"
        }
      ]
    },
    {
      "cell_type": "code",
      "metadata": {
        "id": "mzleE79F3h2A",
        "colab_type": "code",
        "colab": {
          "base_uri": "https://localhost:8080/",
          "height": 286
        },
        "outputId": "9562d250-d668-4ce2-891b-65fa58c9eb5a"
      },
      "source": [
        "img1 = imread('input background.jpg')\n",
        "if img1.ndim == 3:\n",
        "    img1 = img1.mean(axis=2)\n",
        "\n",
        "img2 = imread('input image.jpg')\n",
        "if img2.ndim == 3:\n",
        "    img2 = img2.mean(axis=2)\n",
        "    \n",
        "plt.imshow(img2, cmap='gray')"
      ],
      "execution_count": null,
      "outputs": [
        {
          "output_type": "execute_result",
          "data": {
            "text/plain": [
              "<matplotlib.image.AxesImage at 0x7f19ec8c9a58>"
            ]
          },
          "metadata": {
            "tags": []
          },
          "execution_count": 4
        },
        {
          "output_type": "display_data",
          "data": {
            "image/png": "[encoded data removed]",
            "text/plain": [
              "<Figure size 432x288 with 1 Axes>"
            ]
          },
          "metadata": {
            "tags": [],
            "needs_background": "light"
          }
        }
      ]
    },
    {
      "cell_type": "code",
      "metadata": {
        "id": "VpnvrrLV2VqC",
        "colab_type": "code",
        "colab": {}
      },
      "source": [
        "def median_filter(input_image, s):\n",
        "    new_image = np.zeros((input_image.shape[0], input_image.shape[1]))\n",
        "    for r in range(0, input_image.shape[1]):\n",
        "        for c in range(0, input_image.shape[0]):\n",
        "            values = []\n",
        "            for ri in range(max(0, r - s), min(input_image.shape[1], r + s)):\n",
        "                for ci in range(max(0, c - s), min(input_image.shape[0], c + s)):\n",
        "                    values.append(input_image[ci, ri])\n",
        "            values = sorted(values)\n",
        "            new_image[c, r] = values[int(len(values) / 2)]\n",
        "\n",
        "    return new_image"
      ],
      "execution_count": null,
      "outputs": []
    },
    {
      "cell_type": "code",
      "metadata": {
        "id": "Y4aghQw34AVx",
        "colab_type": "code",
        "colab": {}
      },
      "source": [
        "threshold_function = lambda image, threshold : np.asarray([[pixel>=threshold for pixel in row] for row in image])"
      ],
      "execution_count": null,
      "outputs": []
    },
    {
      "cell_type": "code",
      "metadata": {
        "id": "OMxUH5ff5xBE",
        "colab_type": "code",
        "colab": {}
      },
      "source": [
        "downsize = lambda img, sf : np.array([[img[j, i] for i in range(0, len(img[0]), sf)] for j in range(0, len(img), sf)])"
      ],
      "execution_count": null,
      "outputs": []
    },
    {
      "cell_type": "code",
      "metadata": {
        "id": "0scO01Ht3fHq",
        "colab_type": "code",
        "colab": {}
      },
      "source": [
        "def dilate(image, radius):\n",
        "  new_image = np.zeros(image.shape)\n",
        "  image = np.pad(image, radius)\n",
        "  for y in range(2, image.shape[0]-2):\n",
        "    for x in range(2, image.shape[1]-2):\n",
        "      coords = [[(y+j, x+i) for j in range(-radius, radius+1)] for i in range(-radius, radius+1)]\n",
        "      total = np.asarray([[image[j] for j in i] for i in coords]).any()\n",
        "      new_image[y-radius*2, x-radius*2] = total != 0\n",
        "  return new_image"
      ],
      "execution_count": null,
      "outputs": []
    },
    {
      "cell_type": "code",
      "metadata": {
        "id": "Yb03sOna4YJ_",
        "colab_type": "code",
        "colab": {}
      },
      "source": [
        "def DBSCAN(image, radius, core_threshold):\n",
        "\n",
        "  points = []\n",
        "\n",
        "  for y in range(len(image)):\n",
        "    for x in range(len(image[y])):\n",
        "      if image[y,x] == 1:\n",
        "        points.append([(y,x), 0])\n",
        "\n",
        "  groups = [0]  # group 0 -> noise (default)\n",
        "\n",
        "  for point in points:\n",
        "\n",
        "    surrounding_points = []\n",
        "    for other_point in points:\n",
        "      if ((point[0][0] - other_point[0][0])**2 + (point[0][1] - other_point[0][1])**2)**0.5 <= radius and point != other_point:\n",
        "        surrounding_points.append(other_point)\n",
        "    \n",
        "    if len(surrounding_points) >= core_threshold:\n",
        "\n",
        "      if sum([p[1] for p in surrounding_points]) == 0:  # no groups\n",
        "        new_group = groups[-1] + 1\n",
        "        groups.append(new_group)\n",
        "\n",
        "        for p in surrounding_points:\n",
        "          p[1] = new_group  # changes main points list as list is reference\n",
        "\n",
        "      elif sum([p[1]>0 for p in surrounding_points]) == 1:  # one group\n",
        "        \n",
        "        group = -1  # group should never stay -1\n",
        "        for p in surrounding_points:\n",
        "            group = p[1] if p[1] > 0 else group\n",
        "\n",
        "        for p in surrounding_points:\n",
        "          p[1] = group\n",
        "\n",
        "      else:  # >1 group\n",
        "\n",
        "        surrounding_groups = []\n",
        "        for p in surrounding_points:\n",
        "            if p[1] not in surrounding_groups and p[1] != 0:\n",
        "              surrounding_groups.append(p[1])\n",
        "\n",
        "        for p in surrounding_points:\n",
        "          p[1] = surrounding_groups[0]\n",
        "\n",
        "        for p in points:\n",
        "          if p[1] in surrounding_groups:\n",
        "            p[1] = surrounding_groups[0]\n",
        "\n",
        "  del groups[0]  # noise group\n",
        "  centres = [[0, 0] for i in groups]\n",
        "  totals = [0 for i in groups]\n",
        "\n",
        "  for point in points:\n",
        "    if point[1] != 0:\n",
        "      centres[groups.index(point[1])][0] += point[0][0]\n",
        "      centres[groups.index(point[1])][1] += point[0][1]\n",
        "      totals[groups.index(point[1])] += 1\n",
        "\n",
        "  for i in range(len(groups)):\n",
        "    if totals[i] > 0:\n",
        "      centres[i][0] /= totals[i]\n",
        "      centres[i][1] /= totals[i]\n",
        "\n",
        "  loss = 0\n",
        "  for point in points:\n",
        "    distances = np.array([((point[0][0] - centre[0])**2 + (point[0][1] - centre[1])**2)**0.5 for centre in centres])\n",
        "    loss += min(distances)\n",
        "\n",
        "  del_list = []\n",
        "  for i in range(len(centres)):\n",
        "    if centres[i] == [0, 0]:\n",
        "      del_list.append(i)\n",
        "  for i in sorted(del_list)[::-1]: del centres[i]\n",
        "\n",
        "  return points, centres, loss"
      ],
      "execution_count": null,
      "outputs": []
    },
    {
      "cell_type": "code",
      "metadata": {
        "id": "4ZZjcy6nRYAY",
        "colab_type": "code",
        "colab": {}
      },
      "source": [
        "def get_rotations(image, centres, centre_idx=0, debug=False):\n",
        "\n",
        "  def check_line_length(centre, angle, image):  # angle is from line to right\n",
        "\n",
        "    def dist(p1, p2):\n",
        "      return ((p1[0] - p2[0])**2 + (p1[1] - p2[1])**2)**0.5\n",
        "\n",
        "    hyp = 0\n",
        "    still_on_obj_pos = still_on_obj_neg = True\n",
        "    coords = [(), ()]\n",
        "\n",
        "    while still_on_obj_pos or still_on_obj_neg:\n",
        "      hyp += 2\n",
        "      dy = hyp * sin(angle)  # keep angle in radians\n",
        "      dx = hyp * cos(angle)\n",
        "      try:\n",
        "        if image[round(centre[0]+dy), round(centre[1]+dx)] == 0 and still_on_obj_pos:\n",
        "          still_on_obj_pos = False\n",
        "          coords[0] = (round(centre[0]+dy), round(centre[1]+dx))\n",
        "      except IndexError:\n",
        "        if still_on_obj_pos:\n",
        "          still_on_obj_pos = False\n",
        "          coords[0] = (round(centre[0]+dy), round(centre[1]+dx))\n",
        "\n",
        "      try:\n",
        "        if image[round(centre[0]-dy), round(centre[1]-dx)] == 0 and still_on_obj_neg:\n",
        "          still_on_obj_neg = False\n",
        "          coords[1] = (round(centre[0]-dy), round(centre[1]-dx))\n",
        "      except IndexError:\n",
        "        if still_on_obj_neg:\n",
        "          still_on_obj_neg = False\n",
        "          coords[1] = (round(centre[0]-dy), round(centre[1]-dx))\n",
        "\n",
        "    return dist(*coords)\n",
        "\n",
        "  if debug:\n",
        "    return [check_line_length(centres[centre_idx], radians(angle), image) for angle in range(0, 180, 2)]\n",
        "  return np.argmin(np.asarray([check_line_length(centres[centre_idx], radians(angle), image) for angle in range(0, 180, 2)]))  # only one returned because we only do one rotation per time"
      ],
      "execution_count": null,
      "outputs": []
    },
    {
      "cell_type": "code",
      "metadata": {
        "id": "_dbiGIMZ_0ap",
        "colab_type": "code",
        "colab": {}
      },
      "source": [
        "scaling = 8\n",
        "filter_radius = 2\n",
        "threshold = 60\n",
        "dbscan_radius = 5\n",
        "dbscan_core_threshold = 3"
      ],
      "execution_count": null,
      "outputs": []
    },
    {
      "cell_type": "code",
      "metadata": {
        "id": "4UmnZQgA359X",
        "colab_type": "code",
        "colab": {
          "base_uri": "https://localhost:8080/",
          "height": 51
        },
        "outputId": "1f931f12-e455-4e54-efdd-7a855f1b9779"
      },
      "source": [
        "start_time = time.clock()\n",
        "img = np.absolute(img1 - img2)\n",
        "img = downsize(img, scaling)\n",
        "img = median_filter(img, filter_radius)\n",
        "img = threshold_function(img, threshold)\n",
        "img = dilate(img, 2)\n",
        "centres = DBSCAN(img, dbscan_radius, dbscan_core_threshold)[1]\n",
        "print(centres)\n",
        "print(f\"Time elapsed: {round(time.clock() - start_time, 2)}s\")"
      ],
      "execution_count": null,
      "outputs": [
        {
          "output_type": "stream",
          "text": [
            "[[18.78723404255319, 34.56534954407295], [21.99173553719008, 18.60330578512397], [41.91935483870968, 10.201612903225806], [57.97849462365591, 30.10322580645161]]\n",
            "Time elapsed: 1.11s\n"
          ],
          "name": "stdout"
        }
      ]
    },
    {
      "cell_type": "code",
      "metadata": {
        "id": "pEB0IKb17FOe",
        "colab_type": "code",
        "colab": {
          "base_uri": "https://localhost:8080/",
          "height": 269
        },
        "outputId": "c553aa52-f86e-430e-fb00-6da02b8eb840"
      },
      "source": [
        "plt.imshow(img2, cmap=\"gray\")\n",
        "plt.scatter([centre[1]*scaling for centre in centres], [centre[0]*scaling for centre in centres], c=\"r\")\n",
        "plt.show()"
      ],
      "execution_count": null,
      "outputs": [
        {
          "output_type": "display_data",
          "data": {
            "image/png": "[encoded data removed]",
            "text/plain": [
              "<Figure size 432x288 with 1 Axes>"
            ]
          },
          "metadata": {
            "tags": [],
            "needs_background": "light"
          }
        }
      ]
    },
    {
      "cell_type": "code",
      "metadata": {
        "id": "et3dWuNq8XRH",
        "colab_type": "code",
        "colab": {
          "base_uri": "https://localhost:8080/",
          "height": 269
        },
        "outputId": "ee6bfb81-54d4-4b77-d964-6d6af682e9e8"
      },
      "source": [
        "start_time = time.clock()\n",
        "img = np.absolute(img1 - img2)\n",
        "img = downsize(img, 4)\n",
        "img = median_filter(img, 2)\n",
        "img = threshold_function(img, 40)\n",
        "img = dilate(img, 2)\n",
        "plt.imshow(img, cmap=\"gray\")\n",
        "plt.show()"
      ],
      "execution_count": null,
      "outputs": [
        {
          "output_type": "display_data",
          "data": {
            "image/png": "[encoded data removed]",
            "text/plain": [
              "<Figure size 432x288 with 1 Axes>"
            ]
          },
          "metadata": {
            "tags": [],
            "needs_background": "light"
          }
        }
      ]
    },
    {
      "cell_type": "code",
      "metadata": {
        "id": "DqOww5V18m5z",
        "colab_type": "code",
        "colab": {
          "base_uri": "https://localhost:8080/",
          "height": 286
        },
        "outputId": "b45bf774-f26a-4395-ed1b-2de73df998c5"
      },
      "source": [
        "start_time = time.clock()\n",
        "img = np.absolute(img1 - img2)\n",
        "img = downsize(img, scaling)\n",
        "img = median_filter(img, filter_radius)\n",
        "img = threshold_function(img, threshold)\n",
        "img = dilate(img, 2)\n",
        "points = DBSCAN(img, dbscan_radius, dbscan_core_threshold)[0]\n",
        "\n",
        "temp_image = np.zeros((img.shape[0], img.shape[1]))\n",
        "for point in points:\n",
        "  temp_image[point[0][0], point[0][1]] = point[1] + 1\n",
        "imgplot = plt.imshow(img2, cmap=\"gray\")\n",
        "plt.scatter([centre[1]*scaling for centre in centres], [centre[0]*scaling for centre in centres], c=\"r\")\n",
        "#imgplot = plt.imshow(temp_image)\n",
        "#plt.scatter([centre[1] for centre in centres], [centre[0] for centre in centres], c=\"r\")"
      ],
      "execution_count": null,
      "outputs": [
        {
          "output_type": "execute_result",
          "data": {
            "text/plain": [
              "<matplotlib.collections.PathCollection at 0x7f19ec8b2668>"
            ]
          },
          "metadata": {
            "tags": []
          },
          "execution_count": 15
        },
        {
          "output_type": "display_data",
          "data": {
            "image/png": "[encoded data removed]",
            "text/plain": [
              "<Figure size 432x288 with 1 Axes>"
            ]
          },
          "metadata": {
            "tags": [],
            "needs_background": "light"
          }
        }
      ]
    },
    {
      "cell_type": "code",
      "metadata": {
        "id": "W50qVW_LGHCf",
        "colab_type": "code",
        "colab": {}
      },
      "source": [
        "def DBSCAN_outline(image, radius, core_threshold):\n",
        "\n",
        "  def dist(p1, p2):\n",
        "    return ((p1[0] - p2[0])**2 + (p1[1] - p2[1])**2)**0.5\n",
        "\n",
        "  points = []\n",
        "\n",
        "  for y in range(len(image)):\n",
        "    for x in range(len(image[y])):\n",
        "      if image[y,x] == 1:\n",
        "        points.append((y,x))\n",
        "\n",
        "  for point in points:\n",
        "\n",
        "    no_surrounding_points = 0\n",
        "\n",
        "    for other_point in points:\n",
        "      if dist(point, other_point) <= radius:\n",
        "        no_surrounding_points += 1\n",
        "    \n",
        "    if no_surrounding_points >= core_threshold:\n",
        "      image[point] = 2\n",
        "\n",
        "  return image"
      ],
      "execution_count": null,
      "outputs": []
    },
    {
      "cell_type": "code",
      "metadata": {
        "id": "ZlOq0J4m9fHH",
        "colab_type": "code",
        "colab": {}
      },
      "source": [
        "scaling = 8\n",
        "filter_radius = 2\n",
        "threshold = 40\n",
        "dbscan_radius = 5\n",
        "dbscan_core_threshold = 3\n",
        "dilate_size = 2\n",
        "centre_idx = 2"
      ],
      "execution_count": null,
      "outputs": []
    },
    {
      "cell_type": "code",
      "metadata": {
        "id": "nDGa7QYn_NTQ",
        "colab_type": "code",
        "colab": {}
      },
      "source": [
        "def move_centres(image, centres):\n",
        "\n",
        "  new_centres = [(1e5, 1e5) for i in centres]\n",
        "\n",
        "  def dist(p1, p2):\n",
        "    return ((p1[0] - p2[0])**2 + (p1[1] - p2[1])**2)**0.5\n",
        "\n",
        "  points = []\n",
        "\n",
        "  for y in range(len(image)):\n",
        "    for x in range(len(image[y])):\n",
        "      if image[y,x] == 1:\n",
        "        points.append((y,x))\n",
        "\n",
        "  for point in points:\n",
        "    for i, centre in enumerate(centres):\n",
        "      distance = dist(point, centre)\n",
        "      if distance < new_centres[i][1]:\n",
        "        new_centres[i] = (point, distance)\n",
        "\n",
        "  return [i[0] for i in new_centres]"
      ],
      "execution_count": null,
      "outputs": []
    },
    {
      "cell_type": "code",
      "metadata": {
        "id": "97_xalPJDmpK",
        "colab_type": "code",
        "colab": {}
      },
      "source": [
        "def add_line(centre, angle, image):\n",
        "\n",
        "    def dist(p1, p2):\n",
        "      return ((p1[0] - p2[0])**2 + (p1[1] - p2[1])**2)**0.5\n",
        "\n",
        "    hyp = 0\n",
        "    still_on_obj_pos = still_on_obj_neg = True\n",
        "    coords = [(), ()]\n",
        "\n",
        "    while still_on_obj_pos or still_on_obj_neg:\n",
        "      hyp += 2\n",
        "      dy = hyp * sin(angle)  # keep angle in radians\n",
        "      dx = hyp * cos(angle)\n",
        "      try:\n",
        "        if image[round(centre[0]+dy), round(centre[1]+dx)] == 0 and still_on_obj_pos:\n",
        "          still_on_obj_pos = False\n",
        "      except IndexError:\n",
        "        if still_on_obj_pos:\n",
        "          still_on_obj_pos = False\n",
        "\n",
        "      try:\n",
        "        if image[round(centre[0]-dy), round(centre[1]-dx)] == 0 and still_on_obj_neg:\n",
        "          still_on_obj_neg = False\n",
        "      except IndexError:\n",
        "        if still_on_obj_neg:\n",
        "          still_on_obj_neg = False\n",
        "        \n",
        "      image[round(centre[0]+dy), round(centre[1]+dx)], image[round(centre[0]-dy), round(centre[1]-dx)] = 2, 2\n",
        "\n",
        "    return image"
      ],
      "execution_count": null,
      "outputs": []
    },
    {
      "cell_type": "code",
      "metadata": {
        "id": "jMq3VGaU6QOz",
        "colab_type": "code",
        "colab": {
          "base_uri": "https://localhost:8080/",
          "height": 374
        },
        "outputId": "22f39aa4-e8f9-4743-9bf9-adb14589e9ab"
      },
      "source": [
        "start_time = time.clock()\n",
        "img = np.absolute(img1 - img2)\n",
        "img = downsize(img, scaling)\n",
        "img = median_filter(img, filter_radius)\n",
        "img = threshold_function(img, threshold)\n",
        "img = dilate(img, dilate_size)\n",
        "centres = DBSCAN(img, dbscan_radius, dbscan_core_threshold)[1]\n",
        "centres = move_centres(img, centres)\n",
        "angle = get_rotations(img, centres, centre_idx=centre_idx)\n",
        "\n",
        "print(f\"Time elapsed: {round(time.clock() - start_time, 2)}s\")\n",
        "print(angle)\n",
        "img = add_line(centres[centre_idx], radians(angle), img)\n",
        "plt.imshow(img)\n",
        "plt.scatter(centres[centre_idx][1], centres[centre_idx][0], c=\"r\")\n",
        "plt.show()"
      ],
      "execution_count": null,
      "outputs": [
        {
          "output_type": "error",
          "ename": "TypeError",
          "evalue": "ignored",
          "traceback": [
            "\u001b[0;31m---------------------------------------------------------------------------\u001b[0m",
            "\u001b[0;31mTypeError\u001b[0m                                 Traceback (most recent call last)",
            "\u001b[0;32m<ipython-input-36-437194beb35a>\u001b[0m in \u001b[0;36m<module>\u001b[0;34m()\u001b[0m\n\u001b[1;32m      7\u001b[0m \u001b[0mcentres\u001b[0m \u001b[0;34m=\u001b[0m \u001b[0mDBSCAN\u001b[0m\u001b[0;34m(\u001b[0m\u001b[0mimg\u001b[0m\u001b[0;34m,\u001b[0m \u001b[0mdbscan_radius\u001b[0m\u001b[0;34m,\u001b[0m \u001b[0mdbscan_core_threshold\u001b[0m\u001b[0;34m)\u001b[0m\u001b[0;34m[\u001b[0m\u001b[0;36m1\u001b[0m\u001b[0;34m]\u001b[0m  \u001b[0;31m# add keeping centres inside objs\u001b[0m\u001b[0;34m\u001b[0m\u001b[0;34m\u001b[0m\u001b[0m\n\u001b[1;32m      8\u001b[0m \u001b[0mcentres\u001b[0m \u001b[0;34m=\u001b[0m \u001b[0mmove_centres\u001b[0m\u001b[0;34m(\u001b[0m\u001b[0mimg\u001b[0m\u001b[0;34m,\u001b[0m \u001b[0mcentres\u001b[0m\u001b[0;34m)\u001b[0m\u001b[0;34m\u001b[0m\u001b[0;34m\u001b[0m\u001b[0m\n\u001b[0;32m----> 9\u001b[0;31m \u001b[0mangle\u001b[0m \u001b[0;34m=\u001b[0m \u001b[0mget_rotations\u001b[0m\u001b[0;34m(\u001b[0m\u001b[0mimg\u001b[0m\u001b[0;34m,\u001b[0m \u001b[0mcentres\u001b[0m\u001b[0;34m,\u001b[0m \u001b[0mcentre_idx\u001b[0m\u001b[0;34m=\u001b[0m\u001b[0mcentre_idx\u001b[0m\u001b[0;34m)\u001b[0m\u001b[0;34m\u001b[0m\u001b[0;34m\u001b[0m\u001b[0m\n\u001b[0m\u001b[1;32m     10\u001b[0m \u001b[0;34m\u001b[0m\u001b[0m\n\u001b[1;32m     11\u001b[0m \u001b[0mprint\u001b[0m\u001b[0;34m(\u001b[0m\u001b[0;34mf\"Time elapsed: {round(time.clock() - start_time, 2)}s\"\u001b[0m\u001b[0;34m)\u001b[0m\u001b[0;34m\u001b[0m\u001b[0;34m\u001b[0m\u001b[0m\n",
            "\u001b[0;32m<ipython-input-27-821dc879d634>\u001b[0m in \u001b[0;36mget_rotations\u001b[0;34m(image, centres, centre_idx, debug)\u001b[0m\n\u001b[1;32m     36\u001b[0m   \u001b[0;32mif\u001b[0m \u001b[0mdebug\u001b[0m\u001b[0;34m:\u001b[0m\u001b[0;34m\u001b[0m\u001b[0;34m\u001b[0m\u001b[0m\n\u001b[1;32m     37\u001b[0m     \u001b[0;32mreturn\u001b[0m \u001b[0;34m[\u001b[0m\u001b[0mcheck_line_length\u001b[0m\u001b[0;34m(\u001b[0m\u001b[0mcentres\u001b[0m\u001b[0;34m[\u001b[0m\u001b[0mcentre_idx\u001b[0m\u001b[0;34m]\u001b[0m\u001b[0;34m,\u001b[0m \u001b[0mradians\u001b[0m\u001b[0;34m(\u001b[0m\u001b[0mangle\u001b[0m\u001b[0;34m)\u001b[0m\u001b[0;34m,\u001b[0m \u001b[0mimage\u001b[0m\u001b[0;34m)\u001b[0m \u001b[0;32mfor\u001b[0m \u001b[0mangle\u001b[0m \u001b[0;32min\u001b[0m \u001b[0mrange\u001b[0m\u001b[0;34m(\u001b[0m\u001b[0;36m0\u001b[0m\u001b[0;34m,\u001b[0m \u001b[0;36m180\u001b[0m\u001b[0;34m,\u001b[0m \u001b[0;36m2\u001b[0m\u001b[0;34m)\u001b[0m\u001b[0;34m]\u001b[0m\u001b[0;34m\u001b[0m\u001b[0;34m\u001b[0m\u001b[0m\n\u001b[0;32m---> 38\u001b[0;31m   \u001b[0;32mreturn\u001b[0m \u001b[0mnp\u001b[0m\u001b[0;34m.\u001b[0m\u001b[0margmin\u001b[0m\u001b[0;34m(\u001b[0m\u001b[0mnp\u001b[0m\u001b[0;34m.\u001b[0m\u001b[0masarray\u001b[0m\u001b[0;34m(\u001b[0m\u001b[0;34m[\u001b[0m\u001b[0mcheck_line_length\u001b[0m\u001b[0;34m(\u001b[0m\u001b[0mcentres\u001b[0m\u001b[0;34m[\u001b[0m\u001b[0mcentre_idx\u001b[0m\u001b[0;34m]\u001b[0m\u001b[0;34m,\u001b[0m \u001b[0mradians\u001b[0m\u001b[0;34m(\u001b[0m\u001b[0mangle\u001b[0m\u001b[0;34m)\u001b[0m\u001b[0;34m,\u001b[0m \u001b[0mimage\u001b[0m\u001b[0;34m)\u001b[0m \u001b[0;32mfor\u001b[0m \u001b[0mangle\u001b[0m \u001b[0;32min\u001b[0m \u001b[0mrange\u001b[0m\u001b[0;34m(\u001b[0m\u001b[0;36m0\u001b[0m\u001b[0;34m,\u001b[0m \u001b[0;36m180\u001b[0m\u001b[0;34m,\u001b[0m \u001b[0;36m2\u001b[0m\u001b[0;34m)\u001b[0m\u001b[0;34m]\u001b[0m\u001b[0;34m)\u001b[0m\u001b[0;34m)\u001b[0m  \u001b[0;31m# only one returned because we only do one rotation per time\u001b[0m\u001b[0;34m\u001b[0m\u001b[0;34m\u001b[0m\u001b[0m\n\u001b[0m",
            "\u001b[0;32m<ipython-input-27-821dc879d634>\u001b[0m in \u001b[0;36m<listcomp>\u001b[0;34m(.0)\u001b[0m\n\u001b[1;32m     36\u001b[0m   \u001b[0;32mif\u001b[0m \u001b[0mdebug\u001b[0m\u001b[0;34m:\u001b[0m\u001b[0;34m\u001b[0m\u001b[0;34m\u001b[0m\u001b[0m\n\u001b[1;32m     37\u001b[0m     \u001b[0;32mreturn\u001b[0m \u001b[0;34m[\u001b[0m\u001b[0mcheck_line_length\u001b[0m\u001b[0;34m(\u001b[0m\u001b[0mcentres\u001b[0m\u001b[0;34m[\u001b[0m\u001b[0mcentre_idx\u001b[0m\u001b[0;34m]\u001b[0m\u001b[0;34m,\u001b[0m \u001b[0mradians\u001b[0m\u001b[0;34m(\u001b[0m\u001b[0mangle\u001b[0m\u001b[0;34m)\u001b[0m\u001b[0;34m,\u001b[0m \u001b[0mimage\u001b[0m\u001b[0;34m)\u001b[0m \u001b[0;32mfor\u001b[0m \u001b[0mangle\u001b[0m \u001b[0;32min\u001b[0m \u001b[0mrange\u001b[0m\u001b[0;34m(\u001b[0m\u001b[0;36m0\u001b[0m\u001b[0;34m,\u001b[0m \u001b[0;36m180\u001b[0m\u001b[0;34m,\u001b[0m \u001b[0;36m2\u001b[0m\u001b[0;34m)\u001b[0m\u001b[0;34m]\u001b[0m\u001b[0;34m\u001b[0m\u001b[0;34m\u001b[0m\u001b[0m\n\u001b[0;32m---> 38\u001b[0;31m   \u001b[0;32mreturn\u001b[0m \u001b[0mnp\u001b[0m\u001b[0;34m.\u001b[0m\u001b[0margmin\u001b[0m\u001b[0;34m(\u001b[0m\u001b[0mnp\u001b[0m\u001b[0;34m.\u001b[0m\u001b[0masarray\u001b[0m\u001b[0;34m(\u001b[0m\u001b[0;34m[\u001b[0m\u001b[0mcheck_line_length\u001b[0m\u001b[0;34m(\u001b[0m\u001b[0mcentres\u001b[0m\u001b[0;34m[\u001b[0m\u001b[0mcentre_idx\u001b[0m\u001b[0;34m]\u001b[0m\u001b[0;34m,\u001b[0m \u001b[0mradians\u001b[0m\u001b[0;34m(\u001b[0m\u001b[0mangle\u001b[0m\u001b[0;34m)\u001b[0m\u001b[0;34m,\u001b[0m \u001b[0mimage\u001b[0m\u001b[0;34m)\u001b[0m \u001b[0;32mfor\u001b[0m \u001b[0mangle\u001b[0m \u001b[0;32min\u001b[0m \u001b[0mrange\u001b[0m\u001b[0;34m(\u001b[0m\u001b[0;36m0\u001b[0m\u001b[0;34m,\u001b[0m \u001b[0;36m180\u001b[0m\u001b[0;34m,\u001b[0m \u001b[0;36m2\u001b[0m\u001b[0;34m)\u001b[0m\u001b[0;34m]\u001b[0m\u001b[0;34m)\u001b[0m\u001b[0;34m)\u001b[0m  \u001b[0;31m# only one returned because we only do one rotation per time\u001b[0m\u001b[0;34m\u001b[0m\u001b[0;34m\u001b[0m\u001b[0m\n\u001b[0m",
            "\u001b[0;32m<ipython-input-27-821dc879d634>\u001b[0m in \u001b[0;36mcheck_line_length\u001b[0;34m(centre, angle, image)\u001b[0m\n\u001b[1;32m     15\u001b[0m       \u001b[0mdx\u001b[0m \u001b[0;34m=\u001b[0m \u001b[0mhyp\u001b[0m \u001b[0;34m*\u001b[0m \u001b[0mcos\u001b[0m\u001b[0;34m(\u001b[0m\u001b[0mangle\u001b[0m\u001b[0;34m)\u001b[0m\u001b[0;34m\u001b[0m\u001b[0;34m\u001b[0m\u001b[0m\n\u001b[1;32m     16\u001b[0m       \u001b[0;32mtry\u001b[0m\u001b[0;34m:\u001b[0m\u001b[0;34m\u001b[0m\u001b[0;34m\u001b[0m\u001b[0m\n\u001b[0;32m---> 17\u001b[0;31m         \u001b[0;32mif\u001b[0m \u001b[0mimage\u001b[0m\u001b[0;34m[\u001b[0m\u001b[0mround\u001b[0m\u001b[0;34m(\u001b[0m\u001b[0mcentre\u001b[0m\u001b[0;34m[\u001b[0m\u001b[0;36m0\u001b[0m\u001b[0;34m]\u001b[0m\u001b[0;34m+\u001b[0m\u001b[0mdy\u001b[0m\u001b[0;34m)\u001b[0m\u001b[0;34m,\u001b[0m \u001b[0mround\u001b[0m\u001b[0;34m(\u001b[0m\u001b[0mcentre\u001b[0m\u001b[0;34m[\u001b[0m\u001b[0;36m1\u001b[0m\u001b[0;34m]\u001b[0m\u001b[0;34m+\u001b[0m\u001b[0mdx\u001b[0m\u001b[0;34m)\u001b[0m\u001b[0;34m]\u001b[0m \u001b[0;34m==\u001b[0m \u001b[0;36m0\u001b[0m \u001b[0;32mand\u001b[0m \u001b[0mstill_on_obj_pos\u001b[0m\u001b[0;34m:\u001b[0m\u001b[0;34m\u001b[0m\u001b[0;34m\u001b[0m\u001b[0m\n\u001b[0m\u001b[1;32m     18\u001b[0m           \u001b[0mstill_on_obj_pos\u001b[0m \u001b[0;34m=\u001b[0m \u001b[0;32mFalse\u001b[0m\u001b[0;34m\u001b[0m\u001b[0;34m\u001b[0m\u001b[0m\n\u001b[1;32m     19\u001b[0m           \u001b[0mcoords\u001b[0m\u001b[0;34m[\u001b[0m\u001b[0;36m0\u001b[0m\u001b[0;34m]\u001b[0m \u001b[0;34m=\u001b[0m \u001b[0;34m(\u001b[0m\u001b[0mround\u001b[0m\u001b[0;34m(\u001b[0m\u001b[0mcentre\u001b[0m\u001b[0;34m[\u001b[0m\u001b[0;36m0\u001b[0m\u001b[0;34m]\u001b[0m\u001b[0;34m+\u001b[0m\u001b[0mdy\u001b[0m\u001b[0;34m)\u001b[0m\u001b[0;34m,\u001b[0m \u001b[0mround\u001b[0m\u001b[0;34m(\u001b[0m\u001b[0mcentre\u001b[0m\u001b[0;34m[\u001b[0m\u001b[0;36m1\u001b[0m\u001b[0;34m]\u001b[0m\u001b[0;34m+\u001b[0m\u001b[0mdx\u001b[0m\u001b[0;34m)\u001b[0m\u001b[0;34m)\u001b[0m\u001b[0;34m\u001b[0m\u001b[0;34m\u001b[0m\u001b[0m\n",
            "\u001b[0;31mTypeError\u001b[0m: can only concatenate tuple (not \"float\") to tuple"
          ]
        }
      ]
    },
    {
      "cell_type": "code",
      "metadata": {
        "id": "tDWOk2PcGwgl",
        "colab_type": "code",
        "colab": {
          "base_uri": "https://localhost:8080/",
          "height": 54
        },
        "outputId": "d939047c-5d19-474e-b1a3-c646963a7760"
      },
      "source": [
        "print(angle)"
      ],
      "execution_count": null,
      "outputs": [
        {
          "output_type": "stream",
          "text": [
            "[12.0, 12.0, 12.041594578792296, 12.041594578792296, 12.165525060596439, 12.165525060596439, 10.44030650891055, 10.44030650891055, 11.40175425099138, 9.848857801796104, 9.848857801796104, 9.848857801796104, 9.848857801796104, 9.848857801796104, 10.295630140987, 10.295630140987, 10.295630140987, 10.816653826391969, 10.816653826391969, 11.40175425099138, 12.041594578792296, 12.041594578792296, 12.041594578792296, 12.727922061357855, 12.041594578792296, 12.041594578792296, 11.40175425099138, 12.206555615733702, 12.206555615733702, 12.206555615733702, 11.661903789690601, 14.317821063276353, 14.317821063276353, 14.317821063276353, 14.317821063276353, 15.811388300841896, 15.811388300841896, 15.811388300841896, 17.72004514666935, 22.561028345356956, 22.20360331117452, 22.20360331117452, 22.20360331117452, 26.019223662515376, 26.019223662515376, 28.0, 30.01666203960727, 32.0624390837628, 38.2099463490856, 40.311288741492746, 41.593268686170845, 41.97618372363071, 42.20189569201838, 43.68065933568311, 43.965895873961216, 43.657759905886145, 44.384682042344295, 42.5440947723653, 43.382023926967726, 39.824615503479755, 38.07886552931954, 36.359317925395686, 34.66987164671943, 30.0, 28.42534080710379, 26.248809496813376, 24.08318915758459, 21.93171219946131, 20.518284528683193, 19.849433241279208, 19.849433241279208, 18.601075237738275, 18.027756377319946, 18.027756377319946, 18.027756377319946, 14.7648230602334, 14.7648230602334, 14.317821063276353, 14.317821063276353, 13.92838827718412, 13.92838827718412, 13.92838827718412, 13.341664064126334, 13.341664064126334, 12.36931687685298, 12.165525060596439, 12.165525060596439, 12.041594578792296, 12.041594578792296, 12.0]\n"
          ],
          "name": "stdout"
        }
      ]
    },
    {
      "cell_type": "code",
      "metadata": {
        "id": "eCmz21XtGyVO",
        "colab_type": "code",
        "colab": {
          "base_uri": "https://localhost:8080/",
          "height": 282
        },
        "outputId": "5475ee83-a15a-49ff-8b73-0699ccce230e"
      },
      "source": [
        "plt.plot(angle)"
      ],
      "execution_count": null,
      "outputs": [
        {
          "output_type": "execute_result",
          "data": {
            "text/plain": [
              "[<matplotlib.lines.Line2D at 0x7f19ec2a9f98>]"
            ]
          },
          "metadata": {
            "tags": []
          },
          "execution_count": 21
        },
        {
          "output_type": "display_data",
          "data": {
            "image/png": "[encoded data removed]",
            "text/plain": [
              "<Figure size 432x288 with 1 Axes>"
            ]
          },
          "metadata": {
            "tags": [],
            "needs_background": "light"
          }
        }
      ]
    },
    {
      "cell_type": "code",
      "metadata": {
        "id": "ArlGasTX-vx8",
        "colab_type": "code",
        "colab": {}
      },
      "source": [
        "# find optimised params\n",
        "# contstrin centres"
      ],
      "execution_count": null,
      "outputs": []
    }
  ]
}